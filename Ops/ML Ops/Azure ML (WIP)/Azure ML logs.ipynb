{
 "cells": [
  {
   "cell_type": "code",
   "execution_count": 2,
   "metadata": {},
   "outputs": [],
   "source": [
    "from azureml.core import Workspace\n",
    "from azureml.core.authentication import ServicePrincipalAuthentication\n",
    "#ws = Workspace.from_config(path=\".\\config.json\")\n",
    "\n",
    "svc_pr_password = \"sWR5y]ocjTTMxT@7H13YXWFRcss=.nrN\"\n",
    "\n",
    "svc_pr = ServicePrincipalAuthentication(\n",
    "    tenant_id=\"93f33571-550f-43cf-b09f-cd331338d086\",\n",
    "    service_principal_id=\"0a89e69e-7aae-4a80-8b76-7dc9f65c3d16\",\n",
    "    service_principal_password=svc_pr_password)\n",
    "\n",
    "\n",
    "ws = Workspace(\n",
    "    subscription_id=\"047ae087-7d35-4c57-8fe9-7a442cc9cf16\",\n",
    "    resource_group=\"Speech_Analytics\",\n",
    "    workspace_name=\"saab_ml_workspace\",\n",
    "    auth=svc_pr\n",
    "    )"
   ]
  },
  {
   "cell_type": "code",
   "execution_count": 155,
   "metadata": {},
   "outputs": [],
   "source": [
    "from azureml.core.webservice import AciWebservice\n",
    "\n",
    "# Get the deployed service\n",
    "service = AksWebservice(name='topic-model-service', workspace=ws)\n",
    "\n",
    "# Check its state\n"
   ]
  },
  {
   "cell_type": "code",
   "execution_count": 168,
   "metadata": {},
   "outputs": [
    {
     "name": "stdout",
     "output_type": "stream",
     "text": [
      "Transitioning\n"
     ]
    }
   ],
   "source": [
    "print(service.state)"
   ]
  },
  {
   "cell_type": "code",
   "execution_count": 170,
   "metadata": {},
   "outputs": [
    {
     "name": "stdout",
     "output_type": "stream",
     "text": [
      "/bin/bash: /azureml-envs/azureml_b577801dabfe2a395022a8230bbcddea/lib/libtinfo.so.5: no version information available (required by /bin/bash)\n",
      "/bin/bash: /azureml-envs/azureml_b577801dabfe2a395022a8230bbcddea/lib/libtinfo.so.5: no version information available (required by /bin/bash)\n",
      "2020-02-19T07:35:48,540377325+00:00 - gunicorn/run \n",
      "/bin/bash: /azureml-envs/azureml_b577801dabfe2a395022a8230bbcddea/lib/libtinfo.so.5: no version information available (required by /bin/bash)\n",
      "/bin/bash: /azureml-envs/azureml_b577801dabfe2a395022a8230bbcddea/lib/libtinfo.so.5: no version information available (required by /bin/bash)\n",
      "2020-02-19T07:35:48,544541078+00:00 - rsyslog/run \n",
      "2020-02-19T07:35:48,545635618+00:00 - iot-server/run \n",
      "bash: /azureml-envs/azureml_b577801dabfe2a395022a8230bbcddea/lib/libtinfo.so.5: no version information available (required by bash)\n",
      "2020-02-19T07:35:48,548196412+00:00 - nginx/run \n",
      "/usr/sbin/nginx: /azureml-envs/azureml_b577801dabfe2a395022a8230bbcddea/lib/libcrypto.so.1.0.0: no version information available (required by /usr/sbin/nginx)\n",
      "/usr/sbin/nginx: /azureml-envs/azureml_b577801dabfe2a395022a8230bbcddea/lib/libcrypto.so.1.0.0: no version information available (required by /usr/sbin/nginx)\n",
      "/usr/sbin/nginx: /azureml-envs/azureml_b577801dabfe2a395022a8230bbcddea/lib/libssl.so.1.0.0: no version information available (required by /usr/sbin/nginx)\n",
      "/usr/sbin/nginx: /azureml-envs/azureml_b577801dabfe2a395022a8230bbcddea/lib/libssl.so.1.0.0: no version information available (required by /usr/sbin/nginx)\n",
      "/usr/sbin/nginx: /azureml-envs/azureml_b577801dabfe2a395022a8230bbcddea/lib/libssl.so.1.0.0: no version information available (required by /usr/sbin/nginx)\n",
      "EdgeHubConnectionString and IOTEDGE_IOTHUBHOSTNAME are not set. Exiting...\n",
      "/bin/bash: /azureml-envs/azureml_b577801dabfe2a395022a8230bbcddea/lib/libtinfo.so.5: no version information available (required by /bin/bash)\n",
      "2020-02-19T07:35:48,625781566+00:00 - iot-server/finish 1 0\n",
      "2020-02-19T07:35:48,626937509+00:00 - Exit code 1 is normal. Not restarting iot-server.\n",
      "Starting gunicorn 19.9.0\n",
      "Listening at: http://127.0.0.1:31311 (11)\n",
      "Using worker: sync\n",
      "worker timeout is set to 300\n",
      "Booting worker with pid: 42\n",
      "Initialized PySpark session.\n",
      "Initializing logger\n",
      "Starting up app insights client\n",
      "Starting up request id generator\n",
      "Starting up app insight hooks\n",
      "Invoking user's init function\n",
      "2020-02-19 07:35:51,403 | azureml.core.run | DEBUG | Could not load run context RunEnvironmentException:\n",
      "\tMessage: Could not load a submitted run, if outside of an execution context, use experiment.start_logging to initialize an azureml.core.Run.\n",
      "\tInnerException None\n",
      "\tErrorResponse \n",
      "{\n",
      "    \"error\": {\n",
      "        \"message\": \"Could not load a submitted run, if outside of an execution context, use experiment.start_logging to initialize an azureml.core.Run.\"\n",
      "    }\n",
      "}, switching offline: False\n",
      "2020-02-19 07:35:51,403 | azureml.core.run | DEBUG | Could not load the run context and allow_offline set to False\n",
      "2020-02-19 07:35:51,403 | azureml.core.model | DEBUG | Using passed in version 5\n",
      "2020-02-19 07:35:51,403 | azureml.core.model | DEBUG | Found model path at azureml-models/topic_model/5/Topic_Modelling.pkl\n",
      "Users's init has completed successfully\n",
      "/azureml-envs/azureml_b577801dabfe2a395022a8230bbcddea/lib/python3.6/site-packages/sklearn/externals/joblib/__init__.py:15: FutureWarning: sklearn.externals.joblib is deprecated in 0.21 and will be removed in 0.23. Please import this functionality directly from joblib, which can be installed with: pip install joblib. If this warning is raised when loading pickled models, you may need to re-serialize those models with scikit-learn 0.21+.\n",
      "  warnings.warn(msg, category=FutureWarning)\n",
      "Scoring timeout setting is not found. Use default timeout: 3600000 ms\n",
      "Swagger file not present\n",
      "404\n",
      "127.0.0.1 - - [19/Feb/2020:07:38:28 +0000] \"GET /swagger.json HTTP/1.0\" 404 19 \"-\" \"-\"\n",
      "\n"
     ]
    }
   ],
   "source": [
    "print(service.get_logs())"
   ]
  },
  {
   "cell_type": "code",
   "execution_count": 171,
   "metadata": {},
   "outputs": [
    {
     "name": "stdout",
     "output_type": "stream",
     "text": [
      "http://40.112.168.29:80/api/v1/service/topic-model-service/score\n"
     ]
    }
   ],
   "source": [
    "endpoint = service.scoring_uri\n",
    "print(endpoint)"
   ]
  },
  {
   "cell_type": "code",
   "execution_count": 110,
   "metadata": {},
   "outputs": [],
   "source": [
    "from azureml.core.model import Model"
   ]
  },
  {
   "cell_type": "code",
   "execution_count": 114,
   "metadata": {},
   "outputs": [
    {
     "name": "stdout",
     "output_type": "stream",
     "text": [
      "azureml-models/topic_model/4/Topic_Modelling.pkl\n"
     ]
    }
   ],
   "source": [
    "print(Model.get_model_path('topic_model',4,ws))"
   ]
  },
  {
   "cell_type": "code",
   "execution_count": 133,
   "metadata": {},
   "outputs": [],
   "source": [
    "import sklearn"
   ]
  },
  {
   "cell_type": "code",
   "execution_count": 148,
   "metadata": {},
   "outputs": [],
   "source": [
    "import pickle\n",
    "from sklearn.externals import joblib"
   ]
  },
  {
   "cell_type": "code",
   "execution_count": 151,
   "metadata": {},
   "outputs": [],
   "source": [
    "model_path = Model.get_model_path('topic_model',5,ws)\n"
   ]
  },
  {
   "cell_type": "code",
   "execution_count": 152,
   "metadata": {},
   "outputs": [
    {
     "name": "stdout",
     "output_type": "stream",
     "text": [
      "azureml-models/topic_model/5/Topic_Modelling.pkl\n"
     ]
    }
   ],
   "source": [
    "print(model_path)"
   ]
  },
  {
   "cell_type": "code",
   "execution_count": 153,
   "metadata": {},
   "outputs": [],
   "source": [
    "model = joblib.load(model_path)"
   ]
  },
  {
   "cell_type": "code",
   "execution_count": 154,
   "metadata": {},
   "outputs": [
    {
     "data": {
      "text/plain": [
       "<gensim.models.ldamulticore.LdaMulticore at 0x7f87d391d748>"
      ]
     },
     "execution_count": 154,
     "metadata": {},
     "output_type": "execute_result"
    }
   ],
   "source": [
    "model"
   ]
  },
  {
   "cell_type": "code",
   "execution_count": null,
   "metadata": {},
   "outputs": [],
   "source": [
    "from azureml.core.compute import ComputeTarget, AksCompute\n",
    "\n",
    "cluster_name = 'aks-cluster-run'\n",
    "compute_config = AksCompute.provisioning_configuration(location='westus',ServicePrincipalAuthentication)\n",
    "production_cluster = ComputeTarget.create(ws, cluster_name, compute_config)\n",
    "production_cluster.wait_for_completion(show_output=True)"
   ]
  },
  {
   "cell_type": "code",
   "execution_count": 178,
   "metadata": {},
   "outputs": [],
   "source": [
    "import json\n",
    "from sklearn.externals import joblib\n",
    "import numpy as np\n",
    "from azureml.core.model import Model\n",
    "import pickle\n",
    "import gensim\n",
    "from sklearn.feature_extraction.text import CountVectorizer, TfidfVectorizer\n",
    "from azureml.core import Workspace\n",
    "#ws = Workspace.create(name='saab_ml_workspace', subscription_id='047ae087-7d35-4c57-8fe9-7a442cc9cf16', resource_group='Speech_Analytics')\n",
    "\n",
    "from azureml.core.authentication import ServicePrincipalAuthentication\n",
    "from azureml.core import Workspace\n",
    "svc_pr_password = \"sWR5y]ocjTTMxT@7H13YXWFRcss=.nrN\"\n",
    "\n",
    "svc_pr = ServicePrincipalAuthentication(\n",
    "    tenant_id=\"93f33571-550f-43cf-b09f-cd331338d086\",\n",
    "    service_principal_id=\"0a89e69e-7aae-4a80-8b76-7dc9f65c3d16\",\n",
    "    service_principal_password=svc_pr_password)\n",
    "\n",
    "\n",
    "ws = Workspace(\n",
    "    subscription_id=\"047ae087-7d35-4c57-8fe9-7a442cc9cf16\",\n",
    "    resource_group=\"Speech_Analytics\",\n",
    "    workspace_name=\"saab_ml_workspace\",\n",
    "    auth=svc_pr\n",
    "    )\n",
    "\n",
    "mysql = {'server': 'saab-server-resource.database.windows.net',\n",
    "         'database': 'saab_dw_resource',\n",
    "         'username': 'saabadmin',\n",
    "         'password': 'p@$$w0rd',\n",
    "         'driver':'{ODBC Driver 17 for SQL Server}',\n",
    "         'PORT':'1433'}\n",
    "\n",
    "# Called when the service is loaded\n",
    "def init():\n",
    "    global model\n",
    "    # Get the path to the registered model file and load it\n",
    "    model_path = Model.get_model_path('topic_model',5,ws)\n",
    "    model = joblib.load(model_path)\n",
    "    \n",
    "    return model"
   ]
  },
  {
   "cell_type": "code",
   "execution_count": 164,
   "metadata": {},
   "outputs": [
    {
     "data": {
      "text/plain": [
       "<gensim.models.ldamulticore.LdaMulticore at 0x7f87d1aaf630>"
      ]
     },
     "execution_count": 164,
     "metadata": {},
     "output_type": "execute_result"
    }
   ],
   "source": [
    "init()"
   ]
  },
  {
   "cell_type": "code",
   "execution_count": 172,
   "metadata": {},
   "outputs": [],
   "source": [
    "primary_key, secondary_key = service.get_keys()"
   ]
  },
  {
   "cell_type": "code",
   "execution_count": 173,
   "metadata": {},
   "outputs": [
    {
     "name": "stdout",
     "output_type": "stream",
     "text": [
      "DgJhvhCqhRWWvmdSMO76XJZ4Ey6AVXh8\n"
     ]
    }
   ],
   "source": [
    "print(primary_key)"
   ]
  },
  {
   "cell_type": "code",
   "execution_count": 174,
   "metadata": {},
   "outputs": [
    {
     "name": "stdout",
     "output_type": "stream",
     "text": [
      "ycZ0WDfmLUIEtRQ8FXbnofyDUoZD6azb\n"
     ]
    }
   ],
   "source": [
    "print(secondary_key)"
   ]
  },
  {
   "cell_type": "code",
   "execution_count": 179,
   "metadata": {},
   "outputs": [
    {
     "name": "stdout",
     "output_type": "stream",
     "text": [
      "<bound method AksWebservice.get_token of AksWebservice(workspace=Workspace.create(name='saab_ml_workspace', subscription_id='047ae087-7d35-4c57-8fe9-7a442cc9cf16', resource_group='Speech_Analytics'), name=topic-model-service, image_id=None, compute_type=None, state=AKS, scoring_uri=Transitioning, tags=http://40.112.168.29:80/api/v1/service/topic-model-service/score, properties={}, created_by={})>\n"
     ]
    }
   ],
   "source": [
    "print(service.get_token)"
   ]
  },
  {
   "cell_type": "code",
   "execution_count": null,
   "metadata": {},
   "outputs": [],
   "source": []
  }
 ],
 "metadata": {
  "kernelspec": {
   "display_name": "Python 3.6 - AzureML",
   "language": "python",
   "name": "python3-azureml"
  },
  "language_info": {
   "codemirror_mode": {
    "name": "ipython",
    "version": 3
   },
   "file_extension": ".py",
   "mimetype": "text/x-python",
   "name": "python",
   "nbconvert_exporter": "python",
   "pygments_lexer": "ipython3",
   "version": "3.6.9"
  }
 },
 "nbformat": 4,
 "nbformat_minor": 4
}
