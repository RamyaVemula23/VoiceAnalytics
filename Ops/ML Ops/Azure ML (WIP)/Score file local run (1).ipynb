{
 "cells": [
  {
   "cell_type": "code",
   "execution_count": 113,
   "metadata": {},
   "outputs": [],
   "source": [
    "import json\n",
    "from sklearn.externals import joblib\n",
    "import numpy as np\n",
    "from azureml.core.model import Model\n",
    "import pickle\n",
    "import gensim\n",
    "import pyodbc\n",
    "from sklearn.feature_extraction.text import CountVectorizer, TfidfVectorizer\n",
    "from azureml.core import Workspace\n",
    "#ws = Workspace.create(name='saab_ml_workspace', subscription_id='047ae087-7d35-4c57-8fe9-7a442cc9cf16', resource_group='Speech_Analytics')\n",
    "\n",
    "from azureml.core.authentication import ServicePrincipalAuthentication\n",
    "from azureml.core import Workspace\n",
    "svc_pr_password = \"sWR5y]ocjTTMxT@7H13YXWFRcss=.nrN\"\n",
    "\n",
    "svc_pr = ServicePrincipalAuthentication(\n",
    "    tenant_id=\"93f33571-550f-43cf-b09f-cd331338d086\",\n",
    "    service_principal_id=\"0a89e69e-7aae-4a80-8b76-7dc9f65c3d16\",\n",
    "    service_principal_password=svc_pr_password)\n",
    "\n",
    "\n",
    "ws = Workspace(\n",
    "    subscription_id=\"047ae087-7d35-4c57-8fe9-7a442cc9cf16\",\n",
    "    resource_group=\"Speech_Analytics\",\n",
    "    workspace_name=\"saab_ml_workspace\",\n",
    "    auth=svc_pr\n",
    "    )\n",
    "\n",
    "client_name = {'clientname' : 'SAAB'}\n",
    "mysql = {'server': 'saab-server-resource.database.windows.net',\n",
    "         'database': 'saab_dw_resource',\n",
    "         'username': 'saabadmin',\n",
    "         'password': 'p@$$w0rd',\n",
    "         'driver':'{ODBC Driver 17 for SQL Server}',\n",
    "         'PORT':'1433'}\n",
    "client_details = {'Domain_ID':'101','UserName':'stripathy32','call_language1':'en'}\n",
    "\n",
    "# Called when the service is loaded\n",
    "def init():\n",
    "    global model\n",
    "    # Get the path to the registered model file and load it\n",
    "    #model_path = Model.get_model_path('topic_model',5,ws)\n",
    "    model = joblib.load(\"C:\\\\Sanjeeb\\\\Project\\\\SAAB\\\\Pickle Files\\\\Call Topics\\\\Topic_Modelling.pkl\")\n",
    "    #print(model)\n",
    "    #return (model)\n",
    "# Called when a request is received\n"
   ]
  },
  {
   "cell_type": "code",
   "execution_count": 118,
   "metadata": {},
   "outputs": [
    {
     "name": "stdout",
     "output_type": "stream",
     "text": [
      "Python is great!\n",
      "Look for Geeksforgeeks Python Section\n",
      "Look for Geeksforgeeks Python Section\n"
     ]
    }
   ],
   "source": [
    "def f(): \n",
    "    global s \n",
    "    print (s )\n",
    "    s = \"Look for Geeksforgeeks Python Section\"\n",
    "    print (s)  \n",
    "  \n",
    "#Global Scope \n",
    "s = \"Python is great!\" \n",
    "f() \n",
    "print (s)"
   ]
  },
  {
   "cell_type": "code",
   "execution_count": null,
   "metadata": {},
   "outputs": [],
   "source": []
  },
  {
   "cell_type": "code",
   "execution_count": null,
   "metadata": {},
   "outputs": [],
   "source": []
  },
  {
   "cell_type": "code",
   "execution_count": 115,
   "metadata": {},
   "outputs": [
    {
     "ename": "NameError",
     "evalue": "name 'python' is not defined",
     "output_type": "error",
     "traceback": [
      "\u001b[1;31m---------------------------------------------------------------------------\u001b[0m",
      "\u001b[1;31mNameError\u001b[0m                                 Traceback (most recent call last)",
      "\u001b[1;32m<ipython-input-115-a4637bbefc43>\u001b[0m in \u001b[0;36m<module>\u001b[1;34m\u001b[0m\n\u001b[1;32m----> 1\u001b[1;33m \u001b[0mpython\u001b[0m \u001b[1;33m-\u001b[0m\u001b[1;33m-\u001b[0m\u001b[0mversion\u001b[0m\u001b[1;33m\u001b[0m\u001b[1;33m\u001b[0m\u001b[0m\n\u001b[0m",
      "\u001b[1;31mNameError\u001b[0m: name 'python' is not defined"
     ]
    }
   ],
   "source": [
    "python --version"
   ]
  },
  {
   "cell_type": "code",
   "execution_count": 114,
   "metadata": {},
   "outputs": [
    {
     "ename": "NameError",
     "evalue": "name 'model' is not defined",
     "output_type": "error",
     "traceback": [
      "\u001b[1;31m---------------------------------------------------------------------------\u001b[0m",
      "\u001b[1;31mNameError\u001b[0m                                 Traceback (most recent call last)",
      "\u001b[1;32m<ipython-input-114-1f8a688cae5d>\u001b[0m in \u001b[0;36m<module>\u001b[1;34m\u001b[0m\n\u001b[1;32m----> 1\u001b[1;33m \u001b[0mmodel\u001b[0m\u001b[1;33m\u001b[0m\u001b[1;33m\u001b[0m\u001b[0m\n\u001b[0m",
      "\u001b[1;31mNameError\u001b[0m: name 'model' is not defined"
     ]
    }
   ],
   "source": [
    "model"
   ]
  },
  {
   "cell_type": "code",
   "execution_count": 110,
   "metadata": {},
   "outputs": [],
   "source": [
    "def run(raw_data):\n",
    "    \n",
    "    \n",
    "    df=pd.DataFrame(json.loads(raw_data))\n",
    "    preprocessed_data=df[['Call_ID','Preprocessed Transcripts']]\n",
    "    print(df[['Call_ID','Preprocessed Transcripts']])\n",
    "    query=\"select calltopic_id,calltopics from [SAAB_ML_MASTER_CALLTOPICS_DM] where [DOMAIN_ID]=\"+client_details['Domain_ID'] +\"order by calltopic_id\"\n",
    "    \n",
    "    cnxn = pyodbc.connect('DRIVER='+mysql['driver']+';SERVER='+mysql['server']+';PORT='+mysql['PORT']+';DATABASE='+mysql['database']+';UID='+mysql['username']+';PWD='+ mysql['password'])\n",
    "\n",
    "    cursor = cnxn.cursor()\n",
    "    \n",
    "    #Stored procedure to fetch the call id and transcripts for the respective call id.\n",
    "    df_master_topics = pd.read_sql_query(query,cnxn)\n",
    "    \n",
    "    #Closing the connection\n",
    "    cursor.close()\n",
    "    cnxn.close()\n",
    "       \n",
    "    \n",
    "    vectorizer = CountVectorizer(ngram_range = (3,3)) \n",
    "    X1=vectorizer.fit_transform(preprocessed_data['Preprocessed Transcripts'])\n",
    "    trigrams=[]\n",
    "    for text in preprocessed_data['Preprocessed Transcripts']:\n",
    "        text=[text,]\n",
    "        X1=(vectorizer.fit_transform(text))\n",
    "        trigrams.append(vectorizer.get_feature_names()) \n",
    "    \n",
    "    preprocessed_data['trigram_Transcript']=trigrams\n",
    "    dictionary = gensim.corpora.Dictionary(preprocessed_data['trigram_Transcript'])\n",
    "    bow_corpus = [dictionary.doc2bow(doc) for doc in preprocessed_data['trigram_Transcript']]\n",
    "\n",
    "    doc_lda = model[bow_corpus]\n",
    "    results=[]\n",
    "    for topic in doc_lda:\n",
    "        results.append(topic)\n",
    "    \n",
    "    Number_Of_Topics=len(df_master_topics)\n",
    "    num_topics=Number_Of_Topics\n",
    "    #Getting the topics into a dataframe as column name and scores for each topic into cell per call\n",
    "    cols=[]\n",
    "    for i in range(0,num_topics):\n",
    "        cols.append(\"Topic_\"+str(i+1))\n",
    "    df_Topics=pd.DataFrame(columns=cols)\n",
    "    \n",
    "    for index in range(len(results)):\n",
    "        col_val=''\n",
    "        for item in (results[index]):\n",
    "            df_Topics.set_value(index, \"Topic_\"+str(item[0]+1), str(item[1]))\n",
    "    \n",
    "    df_Topics.columns=df_master_topics.calltopics\n",
    "    preprocessed_data=pd.concat([preprocessed_data, df_Topics], axis=1)\n",
    "    preprocessed_data.drop(['Preprocessed Transcripts'], axis=1, inplace=True)\n",
    "    value_vars=df_master_topics.calltopics.to_list()\n",
    "    df_result=pd.melt(preprocessed_data, id_vars =['Call_ID'], value_vars =value_vars ,\n",
    "              var_name ='CallTopic', value_name ='CALLTOPIC_SCORE').dropna().sort_values('Call_ID')\n",
    "    final_df=pd.merge(df_result, df_master_topics, how ='outer', left_on='CallTopic',right_on='calltopics')     \n",
    "    \n",
    "    final_df.sort_values(by=['Call_ID'],inplace=True)\n",
    "    final_df.reset_index(drop=True, inplace=True)\n",
    "    \n",
    "    final_df[\"Domain_ID\"]=int(client_details['Domain_ID'])\n",
    "    final_df['CREATED_BY']=client_details['UserName']\n",
    "    final_df['RESULT_ID']=final_df.index+1\n",
    "    final_df.drop(['CallTopic', 'calltopics'], axis=1, inplace=True)\n",
    "    \n",
    "    column_titles = ['RESULT_ID','Call_ID','Domain_ID','calltopic_id','CALLTOPIC_SCORE','CREATED_BY']\n",
    "    final_df.reindex(columns=column_titles)\n",
    "    \n",
    "    \n",
    "    out = final_df.to_json(orient='records')\n",
    "    return out"
   ]
  },
  {
   "cell_type": "code",
   "execution_count": 111,
   "metadata": {},
   "outputs": [
    {
     "name": "stdout",
     "output_type": "stream",
     "text": [
      "LdaModel(num_terms=4426, num_topics=4, decay=0.5, chunksize=2000)\n",
      "LdaModel(num_terms=4426, num_topics=4, decay=0.5, chunksize=2000)\n",
      "     Call_ID                           Preprocessed Transcripts\n",
      "0   56482635  ['welcome', 'life', 'help', 'hello', 'child', ...\n",
      "1   61876574  ['good', 'customer', 'care', 'help', 'today', ...\n",
      "2   85550179  ['good', 'welcome', 'insurance', 'help', 'want...\n",
      "3   98762981  ['good', 'customer', 'care', 'help', 'today', ...\n",
      "4  114965010  ['graph', 'noon', 'life', 'customer', 'care', ...\n",
      "Sanjeeb_1\n",
      "Sanjeeb_2\n",
      "Sanjeeb_3\n"
     ]
    },
    {
     "name": "stderr",
     "output_type": "stream",
     "text": [
      "C:\\Users\\stripathy32\\AppData\\Local\\Continuum\\anaconda3\\lib\\site-packages\\ipykernel_launcher.py:50: FutureWarning: set_value is deprecated and will be removed in a future release. Please use .at[] or .iat[] accessors instead\n"
     ]
    }
   ],
   "source": [
    "return_df=run(out)"
   ]
  },
  {
   "cell_type": "code",
   "execution_count": 119,
   "metadata": {
    "scrolled": true
   },
   "outputs": [
    {
     "data": {
      "text/html": [
       "<div>\n",
       "<style scoped>\n",
       "    .dataframe tbody tr th:only-of-type {\n",
       "        vertical-align: middle;\n",
       "    }\n",
       "\n",
       "    .dataframe tbody tr th {\n",
       "        vertical-align: top;\n",
       "    }\n",
       "\n",
       "    .dataframe thead th {\n",
       "        text-align: right;\n",
       "    }\n",
       "</style>\n",
       "<table border=\"1\" class=\"dataframe\">\n",
       "  <thead>\n",
       "    <tr style=\"text-align: right;\">\n",
       "      <th></th>\n",
       "      <th>CALLTOPIC_SCORE</th>\n",
       "      <th>CREATED_BY</th>\n",
       "      <th>Call_ID</th>\n",
       "      <th>Domain_ID</th>\n",
       "      <th>RESULT_ID</th>\n",
       "      <th>calltopic_id</th>\n",
       "    </tr>\n",
       "  </thead>\n",
       "  <tbody>\n",
       "    <tr>\n",
       "      <th>0</th>\n",
       "      <td>0.98713654</td>\n",
       "      <td>stripathy32</td>\n",
       "      <td>56482635.0</td>\n",
       "      <td>101</td>\n",
       "      <td>1</td>\n",
       "      <td>1</td>\n",
       "    </tr>\n",
       "    <tr>\n",
       "      <th>1</th>\n",
       "      <td>0.98939246</td>\n",
       "      <td>stripathy32</td>\n",
       "      <td>61876574.0</td>\n",
       "      <td>101</td>\n",
       "      <td>2</td>\n",
       "      <td>3</td>\n",
       "    </tr>\n",
       "    <tr>\n",
       "      <th>2</th>\n",
       "      <td>0.9879721</td>\n",
       "      <td>stripathy32</td>\n",
       "      <td>85550179.0</td>\n",
       "      <td>101</td>\n",
       "      <td>3</td>\n",
       "      <td>4</td>\n",
       "    </tr>\n",
       "    <tr>\n",
       "      <th>3</th>\n",
       "      <td>0.9878804</td>\n",
       "      <td>stripathy32</td>\n",
       "      <td>98762981.0</td>\n",
       "      <td>101</td>\n",
       "      <td>4</td>\n",
       "      <td>3</td>\n",
       "    </tr>\n",
       "    <tr>\n",
       "      <th>4</th>\n",
       "      <td>0.9887876</td>\n",
       "      <td>stripathy32</td>\n",
       "      <td>114965010.0</td>\n",
       "      <td>101</td>\n",
       "      <td>5</td>\n",
       "      <td>3</td>\n",
       "    </tr>\n",
       "    <tr>\n",
       "      <th>5</th>\n",
       "      <td>None</td>\n",
       "      <td>stripathy32</td>\n",
       "      <td>NaN</td>\n",
       "      <td>101</td>\n",
       "      <td>6</td>\n",
       "      <td>2</td>\n",
       "    </tr>\n",
       "  </tbody>\n",
       "</table>\n",
       "</div>"
      ],
      "text/plain": [
       "  CALLTOPIC_SCORE   CREATED_BY      Call_ID  Domain_ID  RESULT_ID  \\\n",
       "0      0.98713654  stripathy32   56482635.0        101          1   \n",
       "1      0.98939246  stripathy32   61876574.0        101          2   \n",
       "2       0.9879721  stripathy32   85550179.0        101          3   \n",
       "3       0.9878804  stripathy32   98762981.0        101          4   \n",
       "4       0.9887876  stripathy32  114965010.0        101          5   \n",
       "5            None  stripathy32          NaN        101          6   \n",
       "\n",
       "   calltopic_id  \n",
       "0             1  \n",
       "1             3  \n",
       "2             4  \n",
       "3             3  \n",
       "4             3  \n",
       "5             2  "
      ]
     },
     "execution_count": 119,
     "metadata": {},
     "output_type": "execute_result"
    }
   ],
   "source": [
    "pd.DataFrame(json.loads(return_df)) "
   ]
  },
  {
   "cell_type": "code",
   "execution_count": 3,
   "metadata": {},
   "outputs": [],
   "source": [
    "import pandas as pd"
   ]
  },
  {
   "cell_type": "code",
   "execution_count": 4,
   "metadata": {},
   "outputs": [],
   "source": [
    "df=pd.read_csv(\"Preprocessed_Transcripts_29012020161128.csv\")"
   ]
  },
  {
   "cell_type": "code",
   "execution_count": 5,
   "metadata": {},
   "outputs": [
    {
     "data": {
      "text/html": [
       "<div>\n",
       "<style scoped>\n",
       "    .dataframe tbody tr th:only-of-type {\n",
       "        vertical-align: middle;\n",
       "    }\n",
       "\n",
       "    .dataframe tbody tr th {\n",
       "        vertical-align: top;\n",
       "    }\n",
       "\n",
       "    .dataframe thead th {\n",
       "        text-align: right;\n",
       "    }\n",
       "</style>\n",
       "<table border=\"1\" class=\"dataframe\">\n",
       "  <thead>\n",
       "    <tr style=\"text-align: right;\">\n",
       "      <th></th>\n",
       "      <th>Call_ID</th>\n",
       "      <th>Raw Transcripts</th>\n",
       "      <th>Preprocessed Transcripts</th>\n",
       "    </tr>\n",
       "  </thead>\n",
       "  <tbody>\n",
       "    <tr>\n",
       "      <th>0</th>\n",
       "      <td>56482635</td>\n",
       "      <td>Welcome to HDFC life my name is Kai how may I ...</td>\n",
       "      <td>['welcome', 'life', 'help', 'hello', 'child', ...</td>\n",
       "    </tr>\n",
       "    <tr>\n",
       "      <th>1</th>\n",
       "      <td>61876574</td>\n",
       "      <td>Good afternoon, HDFC Life customer care. This ...</td>\n",
       "      <td>['good', 'customer', 'care', 'help', 'today', ...</td>\n",
       "    </tr>\n",
       "    <tr>\n",
       "      <th>2</th>\n",
       "      <td>85550179</td>\n",
       "      <td>Good morning. Welcome to HDFC insurance? How c...</td>\n",
       "      <td>['good', 'welcome', 'insurance', 'help', 'want...</td>\n",
       "    </tr>\n",
       "    <tr>\n",
       "      <th>3</th>\n",
       "      <td>98762981</td>\n",
       "      <td>Good afternoon.\\rHDFC life customer care this ...</td>\n",
       "      <td>['good', 'customer', 'care', 'help', 'today', ...</td>\n",
       "    </tr>\n",
       "    <tr>\n",
       "      <th>4</th>\n",
       "      <td>114965010</td>\n",
       "      <td>Graph noon AGC life customer care. This is Ale...</td>\n",
       "      <td>['graph', 'noon', 'life', 'customer', 'care', ...</td>\n",
       "    </tr>\n",
       "  </tbody>\n",
       "</table>\n",
       "</div>"
      ],
      "text/plain": [
       "     Call_ID                                    Raw Transcripts  \\\n",
       "0   56482635  Welcome to HDFC life my name is Kai how may I ...   \n",
       "1   61876574  Good afternoon, HDFC Life customer care. This ...   \n",
       "2   85550179  Good morning. Welcome to HDFC insurance? How c...   \n",
       "3   98762981  Good afternoon.\\rHDFC life customer care this ...   \n",
       "4  114965010  Graph noon AGC life customer care. This is Ale...   \n",
       "\n",
       "                            Preprocessed Transcripts  \n",
       "0  ['welcome', 'life', 'help', 'hello', 'child', ...  \n",
       "1  ['good', 'customer', 'care', 'help', 'today', ...  \n",
       "2  ['good', 'welcome', 'insurance', 'help', 'want...  \n",
       "3  ['good', 'customer', 'care', 'help', 'today', ...  \n",
       "4  ['graph', 'noon', 'life', 'customer', 'care', ...  "
      ]
     },
     "execution_count": 5,
     "metadata": {},
     "output_type": "execute_result"
    }
   ],
   "source": [
    "df.head()"
   ]
  },
  {
   "cell_type": "code",
   "execution_count": 104,
   "metadata": {},
   "outputs": [
    {
     "data": {
      "text/plain": [
       "Call_ID                      int64\n",
       "Raw Transcripts             object\n",
       "Preprocessed Transcripts    object\n",
       "dtype: object"
      ]
     },
     "execution_count": 104,
     "metadata": {},
     "output_type": "execute_result"
    }
   ],
   "source": [
    "df.dtypes"
   ]
  },
  {
   "cell_type": "code",
   "execution_count": 15,
   "metadata": {
    "scrolled": true
   },
   "outputs": [
    {
     "data": {
      "text/html": [
       "<div>\n",
       "<style scoped>\n",
       "    .dataframe tbody tr th:only-of-type {\n",
       "        vertical-align: middle;\n",
       "    }\n",
       "\n",
       "    .dataframe tbody tr th {\n",
       "        vertical-align: top;\n",
       "    }\n",
       "\n",
       "    .dataframe thead th {\n",
       "        text-align: right;\n",
       "    }\n",
       "</style>\n",
       "<table border=\"1\" class=\"dataframe\">\n",
       "  <thead>\n",
       "    <tr style=\"text-align: right;\">\n",
       "      <th></th>\n",
       "      <th>Call_ID</th>\n",
       "      <th>Preprocessed Transcripts</th>\n",
       "    </tr>\n",
       "  </thead>\n",
       "  <tbody>\n",
       "    <tr>\n",
       "      <th>0</th>\n",
       "      <td>56482635</td>\n",
       "      <td>['welcome', 'life', 'help', 'hello', 'child', ...</td>\n",
       "    </tr>\n",
       "    <tr>\n",
       "      <th>1</th>\n",
       "      <td>61876574</td>\n",
       "      <td>['good', 'customer', 'care', 'help', 'today', ...</td>\n",
       "    </tr>\n",
       "    <tr>\n",
       "      <th>2</th>\n",
       "      <td>85550179</td>\n",
       "      <td>['good', 'welcome', 'insurance', 'help', 'want...</td>\n",
       "    </tr>\n",
       "    <tr>\n",
       "      <th>3</th>\n",
       "      <td>98762981</td>\n",
       "      <td>['good', 'customer', 'care', 'help', 'today', ...</td>\n",
       "    </tr>\n",
       "    <tr>\n",
       "      <th>4</th>\n",
       "      <td>114965010</td>\n",
       "      <td>['graph', 'noon', 'life', 'customer', 'care', ...</td>\n",
       "    </tr>\n",
       "    <tr>\n",
       "      <th>5</th>\n",
       "      <td>136043333</td>\n",
       "      <td>['hello', 'good', 'help', 'want', 'term_insura...</td>\n",
       "    </tr>\n",
       "    <tr>\n",
       "      <th>6</th>\n",
       "      <td>162945426</td>\n",
       "      <td>['good', 'welcome', 'life', 'insurance', 'help...</td>\n",
       "    </tr>\n",
       "    <tr>\n",
       "      <th>7</th>\n",
       "      <td>163481267</td>\n",
       "      <td>['good', 'life', 'customer', 'care', 'help', '...</td>\n",
       "    </tr>\n",
       "    <tr>\n",
       "      <th>8</th>\n",
       "      <td>167214413</td>\n",
       "      <td>['hello', 'ahdfc', 'life', 'help', 'want', 'kn...</td>\n",
       "    </tr>\n",
       "    <tr>\n",
       "      <th>9</th>\n",
       "      <td>233293183</td>\n",
       "      <td>['welcome', 'help', 'purchase', 'young', 'star...</td>\n",
       "    </tr>\n",
       "    <tr>\n",
       "      <th>10</th>\n",
       "      <td>275895380</td>\n",
       "      <td>['welcome', 'atfc', 'life', 'help', 'craig', '...</td>\n",
       "    </tr>\n",
       "    <tr>\n",
       "      <th>11</th>\n",
       "      <td>285303038</td>\n",
       "      <td>['good', 'welcome', 'insurance', 'help', 'emil...</td>\n",
       "    </tr>\n",
       "    <tr>\n",
       "      <th>12</th>\n",
       "      <td>288021220</td>\n",
       "      <td>['hello', 'good', 'evening', 'help', 'actually...</td>\n",
       "    </tr>\n",
       "    <tr>\n",
       "      <th>13</th>\n",
       "      <td>305897728</td>\n",
       "      <td>['hello', 'angel', 'help', 'hello', 'want', 'k...</td>\n",
       "    </tr>\n",
       "    <tr>\n",
       "      <th>14</th>\n",
       "      <td>338602558</td>\n",
       "      <td>['help', 'young', 'insurance', 'policy', 'paym...</td>\n",
       "    </tr>\n",
       "    <tr>\n",
       "      <th>15</th>\n",
       "      <td>371832065</td>\n",
       "      <td>['welcome', 'help', 'want', 'inquire', 'young'...</td>\n",
       "    </tr>\n",
       "    <tr>\n",
       "      <th>16</th>\n",
       "      <td>374358082</td>\n",
       "      <td>['welcome', 'life', 'insurance', 'help', 'sorr...</td>\n",
       "    </tr>\n",
       "    <tr>\n",
       "      <th>17</th>\n",
       "      <td>380511819</td>\n",
       "      <td>['good', 'life', 'customer', 'care', 'help', '...</td>\n",
       "    </tr>\n",
       "    <tr>\n",
       "      <th>18</th>\n",
       "      <td>389319352</td>\n",
       "      <td>['good', 'evening', 'life_insurance', 'help', ...</td>\n",
       "    </tr>\n",
       "    <tr>\n",
       "      <th>19</th>\n",
       "      <td>389409373</td>\n",
       "      <td>['welcome', 'live', 'hate', 'click', 'invest',...</td>\n",
       "    </tr>\n",
       "    <tr>\n",
       "      <th>20</th>\n",
       "      <td>396054342</td>\n",
       "      <td>['want', 'know', 'click', 'investment', 'help'...</td>\n",
       "    </tr>\n",
       "    <tr>\n",
       "      <th>21</th>\n",
       "      <td>398009874</td>\n",
       "      <td>['good', 'help', 'hawaii', 'good', 'head', 'pu...</td>\n",
       "    </tr>\n",
       "    <tr>\n",
       "      <th>22</th>\n",
       "      <td>450918322</td>\n",
       "      <td>['welcome', 'help', 'actually', 'interested', ...</td>\n",
       "    </tr>\n",
       "    <tr>\n",
       "      <th>23</th>\n",
       "      <td>484271384</td>\n",
       "      <td>['hello', 'life', 'help', 'today', 'couple', '...</td>\n",
       "    </tr>\n",
       "    <tr>\n",
       "      <th>24</th>\n",
       "      <td>485256326</td>\n",
       "      <td>['good', 'life', 'customer', 'care', 'help', '...</td>\n",
       "    </tr>\n",
       "    <tr>\n",
       "      <th>25</th>\n",
       "      <td>487681759</td>\n",
       "      <td>['help', 'want', 'enroll', 'click', 'invest_pl...</td>\n",
       "    </tr>\n",
       "    <tr>\n",
       "      <th>26</th>\n",
       "      <td>489590137</td>\n",
       "      <td>['welcome', 'help', 'today', 'actually', 'heal...</td>\n",
       "    </tr>\n",
       "    <tr>\n",
       "      <th>27</th>\n",
       "      <td>524243775</td>\n",
       "      <td>['good', 'life', 'help', 'premium', 'time', 's...</td>\n",
       "    </tr>\n",
       "    <tr>\n",
       "      <th>28</th>\n",
       "      <td>590463931</td>\n",
       "      <td>['good', 'life', 'customer', 'care', 'help', '...</td>\n",
       "    </tr>\n",
       "    <tr>\n",
       "      <th>29</th>\n",
       "      <td>598325124</td>\n",
       "      <td>['hello', 'help', 'graph', 'want', 'know', 'te...</td>\n",
       "    </tr>\n",
       "    <tr>\n",
       "      <th>...</th>\n",
       "      <td>...</td>\n",
       "      <td>...</td>\n",
       "    </tr>\n",
       "    <tr>\n",
       "      <th>61</th>\n",
       "      <td>1344343262</td>\n",
       "      <td>['life', 'help', 'today', 'face', 'problem', '...</td>\n",
       "    </tr>\n",
       "    <tr>\n",
       "      <th>62</th>\n",
       "      <td>1357347108</td>\n",
       "      <td>['good', 'welcome', 'insurance', 'help', 'poli...</td>\n",
       "    </tr>\n",
       "    <tr>\n",
       "      <th>63</th>\n",
       "      <td>1444129832</td>\n",
       "      <td>['hello', 'help', 'sorry', 'want', 'convert', ...</td>\n",
       "    </tr>\n",
       "    <tr>\n",
       "      <th>64</th>\n",
       "      <td>1452472041</td>\n",
       "      <td>['good', 'atfc', 'life', 'customer', 'care', '...</td>\n",
       "    </tr>\n",
       "    <tr>\n",
       "      <th>65</th>\n",
       "      <td>1512604259</td>\n",
       "      <td>['hello', 'life', 'help', 'want', 'know', 'ter...</td>\n",
       "    </tr>\n",
       "    <tr>\n",
       "      <th>66</th>\n",
       "      <td>1515918096</td>\n",
       "      <td>['welcome', 'help', 'actually', 'look', 'term'...</td>\n",
       "    </tr>\n",
       "    <tr>\n",
       "      <th>67</th>\n",
       "      <td>1522016959</td>\n",
       "      <td>['good', 'customer', 'care', 'help', 'today', ...</td>\n",
       "    </tr>\n",
       "    <tr>\n",
       "      <th>68</th>\n",
       "      <td>1550189214</td>\n",
       "      <td>['graph', 'noon', 'customer', 'care', 'help', ...</td>\n",
       "    </tr>\n",
       "    <tr>\n",
       "      <th>69</th>\n",
       "      <td>1680986715</td>\n",
       "      <td>['good', 'welcome', 'insurance', 'help', 'want...</td>\n",
       "    </tr>\n",
       "    <tr>\n",
       "      <th>70</th>\n",
       "      <td>1692229584</td>\n",
       "      <td>['good', 'life', 'customer', 'care', 'help', '...</td>\n",
       "    </tr>\n",
       "    <tr>\n",
       "      <th>71</th>\n",
       "      <td>1705392594</td>\n",
       "      <td>['good', 'kyle', 'help', 'purchase', 'young', ...</td>\n",
       "    </tr>\n",
       "    <tr>\n",
       "      <th>72</th>\n",
       "      <td>1718809995</td>\n",
       "      <td>['welcome', 'help', 'angel', 'policy', 'number...</td>\n",
       "    </tr>\n",
       "    <tr>\n",
       "      <th>73</th>\n",
       "      <td>1736390336</td>\n",
       "      <td>['welcome', 'life', 'kyle', 'help', 'want', 'k...</td>\n",
       "    </tr>\n",
       "    <tr>\n",
       "      <th>74</th>\n",
       "      <td>1736972733</td>\n",
       "      <td>['graph', 'noon', 'life', 'customer', 'care', ...</td>\n",
       "    </tr>\n",
       "    <tr>\n",
       "      <th>75</th>\n",
       "      <td>1745604191</td>\n",
       "      <td>['hello', 'angel', 'good', 'help', 'hello', 'a...</td>\n",
       "    </tr>\n",
       "    <tr>\n",
       "      <th>76</th>\n",
       "      <td>1749907523</td>\n",
       "      <td>['welcome', 'life', 'insurance', 'help', 'toda...</td>\n",
       "    </tr>\n",
       "    <tr>\n",
       "      <th>77</th>\n",
       "      <td>1767767935</td>\n",
       "      <td>['good', 'welcome', 'insurance', 'help', 'want...</td>\n",
       "    </tr>\n",
       "    <tr>\n",
       "      <th>78</th>\n",
       "      <td>1782567962</td>\n",
       "      <td>['good', 'welcome', 'insurance', 'help', 'want...</td>\n",
       "    </tr>\n",
       "    <tr>\n",
       "      <th>79</th>\n",
       "      <td>1791382475</td>\n",
       "      <td>['life', 'customer', 'care', 'help', 'today', ...</td>\n",
       "    </tr>\n",
       "    <tr>\n",
       "      <th>80</th>\n",
       "      <td>1843294248</td>\n",
       "      <td>['good', 'welcome', 'life', 'insurance', 'help...</td>\n",
       "    </tr>\n",
       "    <tr>\n",
       "      <th>81</th>\n",
       "      <td>1847041829</td>\n",
       "      <td>['good', 'life', 'help', 'today', 'face', 'pro...</td>\n",
       "    </tr>\n",
       "    <tr>\n",
       "      <th>82</th>\n",
       "      <td>1852009829</td>\n",
       "      <td>['hello', 'help', 'premium', 'time', 'state', ...</td>\n",
       "    </tr>\n",
       "    <tr>\n",
       "      <th>83</th>\n",
       "      <td>1866938465</td>\n",
       "      <td>['good', 'life', 'customer', 'care', 'help', '...</td>\n",
       "    </tr>\n",
       "    <tr>\n",
       "      <th>84</th>\n",
       "      <td>1884492469</td>\n",
       "      <td>['hello', 'hdfcla', 'help', 'want', 'plus', 'p...</td>\n",
       "    </tr>\n",
       "    <tr>\n",
       "      <th>85</th>\n",
       "      <td>1887604798</td>\n",
       "      <td>['good', 'welcome', 'life', 'help', 'young', '...</td>\n",
       "    </tr>\n",
       "    <tr>\n",
       "      <th>86</th>\n",
       "      <td>1999173881</td>\n",
       "      <td>['good', 'help', 'claim', 'term', 'insurance',...</td>\n",
       "    </tr>\n",
       "    <tr>\n",
       "      <th>87</th>\n",
       "      <td>2039734603</td>\n",
       "      <td>['hello', 'life', 'help', 'hello', 'protect', ...</td>\n",
       "    </tr>\n",
       "    <tr>\n",
       "      <th>88</th>\n",
       "      <td>2071978881</td>\n",
       "      <td>['good', 'life', 'customer', 'care', 'help', '...</td>\n",
       "    </tr>\n",
       "    <tr>\n",
       "      <th>89</th>\n",
       "      <td>2074449487</td>\n",
       "      <td>['good', 'help', 'today', 'ohio', 'lake', 'pen...</td>\n",
       "    </tr>\n",
       "    <tr>\n",
       "      <th>90</th>\n",
       "      <td>2146526476</td>\n",
       "      <td>['welcome', 'life', 'help', 'high', 'angel', '...</td>\n",
       "    </tr>\n",
       "  </tbody>\n",
       "</table>\n",
       "<p>91 rows × 2 columns</p>\n",
       "</div>"
      ],
      "text/plain": [
       "       Call_ID                           Preprocessed Transcripts\n",
       "0     56482635  ['welcome', 'life', 'help', 'hello', 'child', ...\n",
       "1     61876574  ['good', 'customer', 'care', 'help', 'today', ...\n",
       "2     85550179  ['good', 'welcome', 'insurance', 'help', 'want...\n",
       "3     98762981  ['good', 'customer', 'care', 'help', 'today', ...\n",
       "4    114965010  ['graph', 'noon', 'life', 'customer', 'care', ...\n",
       "5    136043333  ['hello', 'good', 'help', 'want', 'term_insura...\n",
       "6    162945426  ['good', 'welcome', 'life', 'insurance', 'help...\n",
       "7    163481267  ['good', 'life', 'customer', 'care', 'help', '...\n",
       "8    167214413  ['hello', 'ahdfc', 'life', 'help', 'want', 'kn...\n",
       "9    233293183  ['welcome', 'help', 'purchase', 'young', 'star...\n",
       "10   275895380  ['welcome', 'atfc', 'life', 'help', 'craig', '...\n",
       "11   285303038  ['good', 'welcome', 'insurance', 'help', 'emil...\n",
       "12   288021220  ['hello', 'good', 'evening', 'help', 'actually...\n",
       "13   305897728  ['hello', 'angel', 'help', 'hello', 'want', 'k...\n",
       "14   338602558  ['help', 'young', 'insurance', 'policy', 'paym...\n",
       "15   371832065  ['welcome', 'help', 'want', 'inquire', 'young'...\n",
       "16   374358082  ['welcome', 'life', 'insurance', 'help', 'sorr...\n",
       "17   380511819  ['good', 'life', 'customer', 'care', 'help', '...\n",
       "18   389319352  ['good', 'evening', 'life_insurance', 'help', ...\n",
       "19   389409373  ['welcome', 'live', 'hate', 'click', 'invest',...\n",
       "20   396054342  ['want', 'know', 'click', 'investment', 'help'...\n",
       "21   398009874  ['good', 'help', 'hawaii', 'good', 'head', 'pu...\n",
       "22   450918322  ['welcome', 'help', 'actually', 'interested', ...\n",
       "23   484271384  ['hello', 'life', 'help', 'today', 'couple', '...\n",
       "24   485256326  ['good', 'life', 'customer', 'care', 'help', '...\n",
       "25   487681759  ['help', 'want', 'enroll', 'click', 'invest_pl...\n",
       "26   489590137  ['welcome', 'help', 'today', 'actually', 'heal...\n",
       "27   524243775  ['good', 'life', 'help', 'premium', 'time', 's...\n",
       "28   590463931  ['good', 'life', 'customer', 'care', 'help', '...\n",
       "29   598325124  ['hello', 'help', 'graph', 'want', 'know', 'te...\n",
       "..         ...                                                ...\n",
       "61  1344343262  ['life', 'help', 'today', 'face', 'problem', '...\n",
       "62  1357347108  ['good', 'welcome', 'insurance', 'help', 'poli...\n",
       "63  1444129832  ['hello', 'help', 'sorry', 'want', 'convert', ...\n",
       "64  1452472041  ['good', 'atfc', 'life', 'customer', 'care', '...\n",
       "65  1512604259  ['hello', 'life', 'help', 'want', 'know', 'ter...\n",
       "66  1515918096  ['welcome', 'help', 'actually', 'look', 'term'...\n",
       "67  1522016959  ['good', 'customer', 'care', 'help', 'today', ...\n",
       "68  1550189214  ['graph', 'noon', 'customer', 'care', 'help', ...\n",
       "69  1680986715  ['good', 'welcome', 'insurance', 'help', 'want...\n",
       "70  1692229584  ['good', 'life', 'customer', 'care', 'help', '...\n",
       "71  1705392594  ['good', 'kyle', 'help', 'purchase', 'young', ...\n",
       "72  1718809995  ['welcome', 'help', 'angel', 'policy', 'number...\n",
       "73  1736390336  ['welcome', 'life', 'kyle', 'help', 'want', 'k...\n",
       "74  1736972733  ['graph', 'noon', 'life', 'customer', 'care', ...\n",
       "75  1745604191  ['hello', 'angel', 'good', 'help', 'hello', 'a...\n",
       "76  1749907523  ['welcome', 'life', 'insurance', 'help', 'toda...\n",
       "77  1767767935  ['good', 'welcome', 'insurance', 'help', 'want...\n",
       "78  1782567962  ['good', 'welcome', 'insurance', 'help', 'want...\n",
       "79  1791382475  ['life', 'customer', 'care', 'help', 'today', ...\n",
       "80  1843294248  ['good', 'welcome', 'life', 'insurance', 'help...\n",
       "81  1847041829  ['good', 'life', 'help', 'today', 'face', 'pro...\n",
       "82  1852009829  ['hello', 'help', 'premium', 'time', 'state', ...\n",
       "83  1866938465  ['good', 'life', 'customer', 'care', 'help', '...\n",
       "84  1884492469  ['hello', 'hdfcla', 'help', 'want', 'plus', 'p...\n",
       "85  1887604798  ['good', 'welcome', 'life', 'help', 'young', '...\n",
       "86  1999173881  ['good', 'help', 'claim', 'term', 'insurance',...\n",
       "87  2039734603  ['hello', 'life', 'help', 'hello', 'protect', ...\n",
       "88  2071978881  ['good', 'life', 'customer', 'care', 'help', '...\n",
       "89  2074449487  ['good', 'help', 'today', 'ohio', 'lake', 'pen...\n",
       "90  2146526476  ['welcome', 'life', 'help', 'high', 'angel', '...\n",
       "\n",
       "[91 rows x 2 columns]"
      ]
     },
     "execution_count": 15,
     "metadata": {},
     "output_type": "execute_result"
    }
   ],
   "source": [
    "df[['Call_ID','Preprocessed Transcripts']]"
   ]
  },
  {
   "cell_type": "code",
   "execution_count": 95,
   "metadata": {},
   "outputs": [],
   "source": [
    "out = df[['Call_ID','Preprocessed Transcripts']].head(5).to_json(orient='records')#[1:-1].replace('},{', '} {')"
   ]
  },
  {
   "cell_type": "code",
   "execution_count": 96,
   "metadata": {},
   "outputs": [
    {
     "data": {
      "text/plain": [
       "'[{\"Call_ID\":56482635,\"Preprocessed Transcripts\":\"[\\'welcome\\', \\'life\\', \\'help\\', \\'hello\\', \\'child\\', \\'policy\\', \\'want\\', \\'know\\', \\'check\\', \\'phone\\', \\'value\\', \\'policy\\', \\'chill\\', \\'insurance\\', \\'purpose\\', \\'know\\', \\'policy_number\\', \\'angel\\', \\'policy_number\\', \\'second\\', \\'check\\', \\'value\\', \\'policy\\', \\'policy\\', \\'summary\\', \\'section\\', \\'account\\', \\'register\\', \\'line\\', \\'register\\', \\'facility\\', \\'registration_process\\', \\'icsi\\', \\'insurance\\', \\'registering\\', \\'procedure\\', \\'easy\\', \\'time\\', \\'registration\\', \\'process\\', \\'post\\', \\'continuous\\', \\'update\\', \\'fine\\', \\'register\\', \\'service\\', \\'type\\', \\'space\\', \\'policy_number\\', \\'alright\\', \\'unit\\', \\'link\\', \\'policy\\', \\'want\\', \\'inform\\', \\'assist\\', \\'maybe\\', \\'registration_process\\', \\'life\\', \\'pleasant\\']\"},{\"Call_ID\":61876574,\"Preprocessed Transcripts\":\"[\\'good\\', \\'customer\\', \\'care\\', \\'help\\', \\'today\\', \\'want\\', \\'unit_link\\', \\'plan\\', \\'help\\', \\'mobile_number\\', \\'angel\\', \\'mobile_number\\', \\'want\\', \\'know\\', \\'want\\', \\'information\\', \\'unit_link\\', \\'plan\\', \\'know\\', \\'premium\\', \\'benefit\\', \\'agree\\', \\'confirmation\\', \\'minimum\\', \\'premium\\', \\'yearly\\', \\'want\\', \\'know\\', \\'procedure\\', \\'enroll\\', \\'immediately\\', \\'enroll\\', \\'easily\\', \\'agent\\', \\'touch\\', \\'come\\', \\'collect\\', \\'document\\', \\'online\\', \\'easy\\', \\'online\\', \\'processor\\', \\'mention\\', \\'document\\', \\'need\\', \\'upload\\', \\'everybody\\', \\'understand\\', \\'website\\', \\'option\\', \\'register\\', \\'need\\', \\'card\\', \\'card\\', \\'photo\\', \\'graph\\', \\'passport\\', \\'size\\', \\'need\\', \\'upload\\', \\'website\\', \\'information\\', \\'help\\', \\'know\\', \\'problem\\', \\'contact\\', \\'contact\\', \\'write\\', \\'mail\\', \\'query\\', \\'ratehdfclife\\', \\'great\\']\"},{\"Call_ID\":85550179,\"Preprocessed Transcripts\":\"[\\'good\\', \\'welcome\\', \\'insurance\\', \\'help\\', \\'want\\', \\'read\\', \\'personal\\', \\'health_plan\\', \\'want\\', \\'know\\', \\'know\\', \\'option\\', \\'want\\', \\'know\\', \\'benefit\\', \\'work\\', \\'maybe\\', \\'refer\\', \\'protected_health\\', \\'plan\\', \\'sorry\\', \\'protect\\', \\'health_plan\\', \\'know\\', \\'know\\', \\'number\\', \\'ciara\\', \\'phone\\', \\'number\\', \\'information\\', \\'protected_health\\', \\'plan\\', \\'plan\\', \\'option\\', \\'minute\\', \\'explain\\', \\'benefit\\', \\'cover\\', \\'plan\\', \\'band\\', \\'plan\\', \\'good\\', \\'accord\\', \\'accord\\', \\'plan\\', \\'plan\\', \\'know\\', \\'requirement\\', \\'assume\\', \\'inquire\\', \\'surgical\\', \\'benefit\\', \\'plus\\', \\'critical\\', \\'illness\\', \\'benefit\\', \\'plan\\', \\'daily\\', \\'hospital\\', \\'cash\\', \\'benefit\\', \\'plan\\', \\'true\\', \\'plan\\']\"},{\"Call_ID\":98762981,\"Preprocessed Transcripts\":\"[\\'good\\', \\'customer\\', \\'care\\', \\'help\\', \\'today\\', \\'type\\', \\'pension\\', \\'phone_number\\', \\'phone_number\\', \\'currently\\', \\'offer\\', \\'pension_plan\\', \\'assure\\', \\'pension_plan\\', \\'unit_link\\', \\'pension_plan\\', \\'offer\\', \\'flexible_premium\\', \\'payment\\', \\'frequency\\', \\'tax_benefit\\', \\'zero_allocation\\', \\'charge\\', \\'pension\\', \\'super\\', \\'plus\\', \\'plan\\', \\'unit_link\\', \\'plan\\', \\'flexible_premium\\', \\'payment\\', \\'multiple\\', \\'fund\\', \\'zero_allocation\\', \\'charge\\', \\'tax_benefit\\', \\'flexible\\', \\'maturity\\', \\'work\\', \\'plan\\', \\'suggest\\', \\'people\\', \\'popular\\', \\'plan\\', \\'assure\\', \\'unit_link\\', \\'plan\\', \\'earlier\\', \\'popular\\', \\'return\\', \\'planet\\', \\'high\\', \\'return\\', \\'link\\', \\'market\\', \\'want\\', \\'think\\', \\'time\\', \\'information\\', \\'want\\', \\'thing\\', \\'online\\', \\'want\\']\"},{\"Call_ID\":114965010,\"Preprocessed Transcripts\":\"[\\'graph\\', \\'noon\\', \\'life\\', \\'customer\\', \\'care\\', \\'help\\', \\'today\\', \\'hello\\', \\'history\\', \\'life\\', \\'azure\\', \\'pension_plan\\', \\'come\\', \\'unit\\', \\'link\\', \\'plan\\', \\'currently\\', \\'enable\\', \\'online\\', \\'thing\\', \\'thing\\', \\'want\\', \\'know\\', \\'premium\\', \\'benefit\\', \\'policy\\', \\'number\\', \\'minute\\', \\'premium\\', \\'help\\', \\'contact\\', \\'agent\\', \\'know\\', \\'premium\\', \\'yard\\', \\'benefit\\', \\'agent\\', \\'thing\\', \\'pension_plan\\', \\'online_portal\\', \\'activate\\', \\'online_portal\\', \\'know\\', \\'usually\\', \\'people_uh\\', \\'deal\\', \\'people_uh\\', \\'premium\\', \\'handle\\', \\'agent\\', \\'solve\\', \\'problem\\', \\'need\\', \\'change\\', \\'agent\\', \\'talk\\', \\'right\\', \\'mommy\\', \\'want\\', \\'online\\', \\'need\\', \\'enable\\', \\'want\\', \\'enable\\', \\'thing\\', \\'help\\', \\'enable\\', \\'minute\\']\"}]'"
      ]
     },
     "execution_count": 96,
     "metadata": {},
     "output_type": "execute_result"
    }
   ],
   "source": [
    "out"
   ]
  },
  {
   "cell_type": "code",
   "execution_count": 60,
   "metadata": {},
   "outputs": [
    {
     "ename": "AttributeError",
     "evalue": "'str' object has no attribute 'to_list'",
     "output_type": "error",
     "traceback": [
      "\u001b[1;31m---------------------------------------------------------------------------\u001b[0m",
      "\u001b[1;31mAttributeError\u001b[0m                            Traceback (most recent call last)",
      "\u001b[1;32m<ipython-input-60-eca310e90b68>\u001b[0m in \u001b[0;36m<module>\u001b[1;34m\u001b[0m\n\u001b[1;32m----> 1\u001b[1;33m \u001b[0mout\u001b[0m\u001b[1;33m.\u001b[0m\u001b[0mto_list\u001b[0m\u001b[1;33m(\u001b[0m\u001b[1;33m)\u001b[0m\u001b[1;33m\u001b[0m\u001b[1;33m\u001b[0m\u001b[0m\n\u001b[0m",
      "\u001b[1;31mAttributeError\u001b[0m: 'str' object has no attribute 'to_list'"
     ]
    }
   ],
   "source": []
  },
  {
   "cell_type": "code",
   "execution_count": 29,
   "metadata": {},
   "outputs": [
    {
     "data": {
      "text/plain": [
       "'[{\"Call_ID\":56482635,\"Preprocessed Transcripts\":\"[\\'welcome\\', \\'life\\', \\'help\\', \\'hello\\', \\'child\\', \\'policy\\', \\'want\\', \\'know\\', \\'check\\', \\'phone\\', \\'value\\', \\'policy\\', \\'chill\\', \\'insurance\\', \\'purpose\\', \\'know\\', \\'policy_number\\', \\'angel\\', \\'policy_number\\', \\'second\\', \\'check\\', \\'value\\', \\'policy\\', \\'policy\\', \\'summary\\', \\'section\\', \\'account\\', \\'register\\', \\'line\\', \\'register\\', \\'facility\\', \\'registration_process\\', \\'icsi\\', \\'insurance\\', \\'registering\\', \\'procedure\\', \\'easy\\', \\'time\\', \\'registration\\', \\'process\\', \\'post\\', \\'continuous\\', \\'update\\', \\'fine\\', \\'register\\', \\'service\\', \\'type\\', \\'space\\', \\'policy_number\\', \\'alright\\', \\'unit\\', \\'link\\', \\'policy\\', \\'want\\', \\'inform\\', \\'assist\\', \\'maybe\\', \\'registration_process\\', \\'life\\', \\'pleasant\\']\"},{\"Call_ID\":61876574,\"Preprocessed Transcripts\":\"[\\'good\\', \\'customer\\', \\'care\\', \\'help\\', \\'today\\', \\'want\\', \\'unit_link\\', \\'plan\\', \\'help\\', \\'mobile_number\\', \\'angel\\', \\'mobile_number\\', \\'want\\', \\'know\\', \\'want\\', \\'information\\', \\'unit_link\\', \\'plan\\', \\'know\\', \\'premium\\', \\'benefit\\', \\'agree\\', \\'confirmation\\', \\'minimum\\', \\'premium\\', \\'yearly\\', \\'want\\', \\'know\\', \\'procedure\\', \\'enroll\\', \\'immediately\\', \\'enroll\\', \\'easily\\', \\'agent\\', \\'touch\\', \\'come\\', \\'collect\\', \\'document\\', \\'online\\', \\'easy\\', \\'online\\', \\'processor\\', \\'mention\\', \\'document\\', \\'need\\', \\'upload\\', \\'everybody\\', \\'understand\\', \\'website\\', \\'option\\', \\'register\\', \\'need\\', \\'card\\', \\'card\\', \\'photo\\', \\'graph\\', \\'passport\\', \\'size\\', \\'need\\', \\'upload\\', \\'website\\', \\'information\\', \\'help\\', \\'know\\', \\'problem\\', \\'contact\\', \\'contact\\', \\'write\\', \\'mail\\', \\'query\\', \\'ratehdfclife\\', \\'great\\']\"},{\"Call_ID\":85550179,\"Preprocessed Transcripts\":\"[\\'good\\', \\'welcome\\', \\'insurance\\', \\'help\\', \\'want\\', \\'read\\', \\'personal\\', \\'health_plan\\', \\'want\\', \\'know\\', \\'know\\', \\'option\\', \\'want\\', \\'know\\', \\'benefit\\', \\'work\\', \\'maybe\\', \\'refer\\', \\'protected_health\\', \\'plan\\', \\'sorry\\', \\'protect\\', \\'health_plan\\', \\'know\\', \\'know\\', \\'number\\', \\'ciara\\', \\'phone\\', \\'number\\', \\'information\\', \\'protected_health\\', \\'plan\\', \\'plan\\', \\'option\\', \\'minute\\', \\'explain\\', \\'benefit\\', \\'cover\\', \\'plan\\', \\'band\\', \\'plan\\', \\'good\\', \\'accord\\', \\'accord\\', \\'plan\\', \\'plan\\', \\'know\\', \\'requirement\\', \\'assume\\', \\'inquire\\', \\'surgical\\', \\'benefit\\', \\'plus\\', \\'critical\\', \\'illness\\', \\'benefit\\', \\'plan\\', \\'daily\\', \\'hospital\\', \\'cash\\', \\'benefit\\', \\'plan\\', \\'true\\', \\'plan\\']\"},{\"Call_ID\":98762981,\"Preprocessed Transcripts\":\"[\\'good\\', \\'customer\\', \\'care\\', \\'help\\', \\'today\\', \\'type\\', \\'pension\\', \\'phone_number\\', \\'phone_number\\', \\'currently\\', \\'offer\\', \\'pension_plan\\', \\'assure\\', \\'pension_plan\\', \\'unit_link\\', \\'pension_plan\\', \\'offer\\', \\'flexible_premium\\', \\'payment\\', \\'frequency\\', \\'tax_benefit\\', \\'zero_allocation\\', \\'charge\\', \\'pension\\', \\'super\\', \\'plus\\', \\'plan\\', \\'unit_link\\', \\'plan\\', \\'flexible_premium\\', \\'payment\\', \\'multiple\\', \\'fund\\', \\'zero_allocation\\', \\'charge\\', \\'tax_benefit\\', \\'flexible\\', \\'maturity\\', \\'work\\', \\'plan\\', \\'suggest\\', \\'people\\', \\'popular\\', \\'plan\\', \\'assure\\', \\'unit_link\\', \\'plan\\', \\'earlier\\', \\'popular\\', \\'return\\', \\'planet\\', \\'high\\', \\'return\\', \\'link\\', \\'market\\', \\'want\\', \\'think\\', \\'time\\', \\'information\\', \\'want\\', \\'thing\\', \\'online\\', \\'want\\']\"},{\"Call_ID\":114965010,\"Preprocessed Transcripts\":\"[\\'graph\\', \\'noon\\', \\'life\\', \\'customer\\', \\'care\\', \\'help\\', \\'today\\', \\'hello\\', \\'history\\', \\'life\\', \\'azure\\', \\'pension_plan\\', \\'come\\', \\'unit\\', \\'link\\', \\'plan\\', \\'currently\\', \\'enable\\', \\'online\\', \\'thing\\', \\'thing\\', \\'want\\', \\'know\\', \\'premium\\', \\'benefit\\', \\'policy\\', \\'number\\', \\'minute\\', \\'premium\\', \\'help\\', \\'contact\\', \\'agent\\', \\'know\\', \\'premium\\', \\'yard\\', \\'benefit\\', \\'agent\\', \\'thing\\', \\'pension_plan\\', \\'online_portal\\', \\'activate\\', \\'online_portal\\', \\'know\\', \\'usually\\', \\'people_uh\\', \\'deal\\', \\'people_uh\\', \\'premium\\', \\'handle\\', \\'agent\\', \\'solve\\', \\'problem\\', \\'need\\', \\'change\\', \\'agent\\', \\'talk\\', \\'right\\', \\'mommy\\', \\'want\\', \\'online\\', \\'need\\', \\'enable\\', \\'want\\', \\'enable\\', \\'thing\\', \\'help\\', \\'enable\\', \\'minute\\']\"}]'"
      ]
     },
     "execution_count": 29,
     "metadata": {},
     "output_type": "execute_result"
    }
   ],
   "source": [
    "out"
   ]
  },
  {
   "cell_type": "code",
   "execution_count": 18,
   "metadata": {
    "scrolled": true
   },
   "outputs": [
    {
     "ename": "ValueError",
     "evalue": "Trailing data",
     "output_type": "error",
     "traceback": [
      "\u001b[1;31m---------------------------------------------------------------------------\u001b[0m",
      "\u001b[1;31mValueError\u001b[0m                                Traceback (most recent call last)",
      "\u001b[1;32m<ipython-input-18-3399a05b7f39>\u001b[0m in \u001b[0;36m<module>\u001b[1;34m\u001b[0m\n\u001b[1;32m----> 1\u001b[1;33m \u001b[0mpd\u001b[0m\u001b[1;33m.\u001b[0m\u001b[0mread_json\u001b[0m\u001b[1;33m(\u001b[0m\u001b[0mout\u001b[0m\u001b[1;33m)\u001b[0m\u001b[1;33m\u001b[0m\u001b[1;33m\u001b[0m\u001b[0m\n\u001b[0m",
      "\u001b[1;32m~\\AppData\\Local\\Continuum\\anaconda3\\lib\\site-packages\\pandas\\io\\json\\json.py\u001b[0m in \u001b[0;36mread_json\u001b[1;34m(path_or_buf, orient, typ, dtype, convert_axes, convert_dates, keep_default_dates, numpy, precise_float, date_unit, encoding, lines, chunksize, compression)\u001b[0m\n\u001b[0;32m    425\u001b[0m         \u001b[1;32mreturn\u001b[0m \u001b[0mjson_reader\u001b[0m\u001b[1;33m\u001b[0m\u001b[1;33m\u001b[0m\u001b[0m\n\u001b[0;32m    426\u001b[0m \u001b[1;33m\u001b[0m\u001b[0m\n\u001b[1;32m--> 427\u001b[1;33m     \u001b[0mresult\u001b[0m \u001b[1;33m=\u001b[0m \u001b[0mjson_reader\u001b[0m\u001b[1;33m.\u001b[0m\u001b[0mread\u001b[0m\u001b[1;33m(\u001b[0m\u001b[1;33m)\u001b[0m\u001b[1;33m\u001b[0m\u001b[1;33m\u001b[0m\u001b[0m\n\u001b[0m\u001b[0;32m    428\u001b[0m     \u001b[1;32mif\u001b[0m \u001b[0mshould_close\u001b[0m\u001b[1;33m:\u001b[0m\u001b[1;33m\u001b[0m\u001b[1;33m\u001b[0m\u001b[0m\n\u001b[0;32m    429\u001b[0m         \u001b[1;32mtry\u001b[0m\u001b[1;33m:\u001b[0m\u001b[1;33m\u001b[0m\u001b[1;33m\u001b[0m\u001b[0m\n",
      "\u001b[1;32m~\\AppData\\Local\\Continuum\\anaconda3\\lib\\site-packages\\pandas\\io\\json\\json.py\u001b[0m in \u001b[0;36mread\u001b[1;34m(self)\u001b[0m\n\u001b[0;32m    535\u001b[0m             )\n\u001b[0;32m    536\u001b[0m         \u001b[1;32melse\u001b[0m\u001b[1;33m:\u001b[0m\u001b[1;33m\u001b[0m\u001b[1;33m\u001b[0m\u001b[0m\n\u001b[1;32m--> 537\u001b[1;33m             \u001b[0mobj\u001b[0m \u001b[1;33m=\u001b[0m \u001b[0mself\u001b[0m\u001b[1;33m.\u001b[0m\u001b[0m_get_object_parser\u001b[0m\u001b[1;33m(\u001b[0m\u001b[0mself\u001b[0m\u001b[1;33m.\u001b[0m\u001b[0mdata\u001b[0m\u001b[1;33m)\u001b[0m\u001b[1;33m\u001b[0m\u001b[1;33m\u001b[0m\u001b[0m\n\u001b[0m\u001b[0;32m    538\u001b[0m         \u001b[0mself\u001b[0m\u001b[1;33m.\u001b[0m\u001b[0mclose\u001b[0m\u001b[1;33m(\u001b[0m\u001b[1;33m)\u001b[0m\u001b[1;33m\u001b[0m\u001b[1;33m\u001b[0m\u001b[0m\n\u001b[0;32m    539\u001b[0m         \u001b[1;32mreturn\u001b[0m \u001b[0mobj\u001b[0m\u001b[1;33m\u001b[0m\u001b[1;33m\u001b[0m\u001b[0m\n",
      "\u001b[1;32m~\\AppData\\Local\\Continuum\\anaconda3\\lib\\site-packages\\pandas\\io\\json\\json.py\u001b[0m in \u001b[0;36m_get_object_parser\u001b[1;34m(self, json)\u001b[0m\n\u001b[0;32m    554\u001b[0m         \u001b[0mobj\u001b[0m \u001b[1;33m=\u001b[0m \u001b[1;32mNone\u001b[0m\u001b[1;33m\u001b[0m\u001b[1;33m\u001b[0m\u001b[0m\n\u001b[0;32m    555\u001b[0m         \u001b[1;32mif\u001b[0m \u001b[0mtyp\u001b[0m \u001b[1;33m==\u001b[0m \u001b[1;34m'frame'\u001b[0m\u001b[1;33m:\u001b[0m\u001b[1;33m\u001b[0m\u001b[1;33m\u001b[0m\u001b[0m\n\u001b[1;32m--> 556\u001b[1;33m             \u001b[0mobj\u001b[0m \u001b[1;33m=\u001b[0m \u001b[0mFrameParser\u001b[0m\u001b[1;33m(\u001b[0m\u001b[0mjson\u001b[0m\u001b[1;33m,\u001b[0m \u001b[1;33m**\u001b[0m\u001b[0mkwargs\u001b[0m\u001b[1;33m)\u001b[0m\u001b[1;33m.\u001b[0m\u001b[0mparse\u001b[0m\u001b[1;33m(\u001b[0m\u001b[1;33m)\u001b[0m\u001b[1;33m\u001b[0m\u001b[1;33m\u001b[0m\u001b[0m\n\u001b[0m\u001b[0;32m    557\u001b[0m \u001b[1;33m\u001b[0m\u001b[0m\n\u001b[0;32m    558\u001b[0m         \u001b[1;32mif\u001b[0m \u001b[0mtyp\u001b[0m \u001b[1;33m==\u001b[0m \u001b[1;34m'series'\u001b[0m \u001b[1;32mor\u001b[0m \u001b[0mobj\u001b[0m \u001b[1;32mis\u001b[0m \u001b[1;32mNone\u001b[0m\u001b[1;33m:\u001b[0m\u001b[1;33m\u001b[0m\u001b[1;33m\u001b[0m\u001b[0m\n",
      "\u001b[1;32m~\\AppData\\Local\\Continuum\\anaconda3\\lib\\site-packages\\pandas\\io\\json\\json.py\u001b[0m in \u001b[0;36mparse\u001b[1;34m(self)\u001b[0m\n\u001b[0;32m    650\u001b[0m \u001b[1;33m\u001b[0m\u001b[0m\n\u001b[0;32m    651\u001b[0m         \u001b[1;32melse\u001b[0m\u001b[1;33m:\u001b[0m\u001b[1;33m\u001b[0m\u001b[1;33m\u001b[0m\u001b[0m\n\u001b[1;32m--> 652\u001b[1;33m             \u001b[0mself\u001b[0m\u001b[1;33m.\u001b[0m\u001b[0m_parse_no_numpy\u001b[0m\u001b[1;33m(\u001b[0m\u001b[1;33m)\u001b[0m\u001b[1;33m\u001b[0m\u001b[1;33m\u001b[0m\u001b[0m\n\u001b[0m\u001b[0;32m    653\u001b[0m \u001b[1;33m\u001b[0m\u001b[0m\n\u001b[0;32m    654\u001b[0m         \u001b[1;32mif\u001b[0m \u001b[0mself\u001b[0m\u001b[1;33m.\u001b[0m\u001b[0mobj\u001b[0m \u001b[1;32mis\u001b[0m \u001b[1;32mNone\u001b[0m\u001b[1;33m:\u001b[0m\u001b[1;33m\u001b[0m\u001b[1;33m\u001b[0m\u001b[0m\n",
      "\u001b[1;32m~\\AppData\\Local\\Continuum\\anaconda3\\lib\\site-packages\\pandas\\io\\json\\json.py\u001b[0m in \u001b[0;36m_parse_no_numpy\u001b[1;34m(self)\u001b[0m\n\u001b[0;32m    869\u001b[0m         \u001b[1;32mif\u001b[0m \u001b[0morient\u001b[0m \u001b[1;33m==\u001b[0m \u001b[1;34m\"columns\"\u001b[0m\u001b[1;33m:\u001b[0m\u001b[1;33m\u001b[0m\u001b[1;33m\u001b[0m\u001b[0m\n\u001b[0;32m    870\u001b[0m             self.obj = DataFrame(\n\u001b[1;32m--> 871\u001b[1;33m                 loads(json, precise_float=self.precise_float), dtype=None)\n\u001b[0m\u001b[0;32m    872\u001b[0m         \u001b[1;32melif\u001b[0m \u001b[0morient\u001b[0m \u001b[1;33m==\u001b[0m \u001b[1;34m\"split\"\u001b[0m\u001b[1;33m:\u001b[0m\u001b[1;33m\u001b[0m\u001b[1;33m\u001b[0m\u001b[0m\n\u001b[0;32m    873\u001b[0m             decoded = {str(k): v for k, v in compat.iteritems(\n",
      "\u001b[1;31mValueError\u001b[0m: Trailing data"
     ]
    }
   ],
   "source": [
    "pd.read_json(out)"
   ]
  },
  {
   "cell_type": "code",
   "execution_count": 19,
   "metadata": {},
   "outputs": [],
   "source": [
    "import json"
   ]
  },
  {
   "cell_type": "code",
   "execution_count": 20,
   "metadata": {
    "collapsed": true
   },
   "outputs": [
    {
     "ename": "AttributeError",
     "evalue": "'str' object has no attribute 'read'",
     "output_type": "error",
     "traceback": [
      "\u001b[1;31m---------------------------------------------------------------------------\u001b[0m",
      "\u001b[1;31mAttributeError\u001b[0m                            Traceback (most recent call last)",
      "\u001b[1;32m<ipython-input-20-4ac60a5e1606>\u001b[0m in \u001b[0;36m<module>\u001b[1;34m\u001b[0m\n\u001b[1;32m----> 1\u001b[1;33m \u001b[0mjson\u001b[0m\u001b[1;33m.\u001b[0m\u001b[0mload\u001b[0m\u001b[1;33m(\u001b[0m\u001b[0mout\u001b[0m\u001b[1;33m)\u001b[0m\u001b[1;33m\u001b[0m\u001b[1;33m\u001b[0m\u001b[0m\n\u001b[0m",
      "\u001b[1;32m~\\AppData\\Local\\Continuum\\anaconda3\\lib\\json\\__init__.py\u001b[0m in \u001b[0;36mload\u001b[1;34m(fp, cls, object_hook, parse_float, parse_int, parse_constant, object_pairs_hook, **kw)\u001b[0m\n\u001b[0;32m    291\u001b[0m     \u001b[0mkwarg\u001b[0m\u001b[1;33m;\u001b[0m \u001b[0motherwise\u001b[0m\u001b[0;31m \u001b[0m\u001b[0;31m`\u001b[0m\u001b[0;31m`\u001b[0m\u001b[0mJSONDecoder\u001b[0m\u001b[0;31m`\u001b[0m\u001b[0;31m`\u001b[0m \u001b[1;32mis\u001b[0m \u001b[0mused\u001b[0m\u001b[1;33m.\u001b[0m\u001b[1;33m\u001b[0m\u001b[1;33m\u001b[0m\u001b[0m\n\u001b[0;32m    292\u001b[0m     \"\"\"\n\u001b[1;32m--> 293\u001b[1;33m     return loads(fp.read(),\n\u001b[0m\u001b[0;32m    294\u001b[0m         \u001b[0mcls\u001b[0m\u001b[1;33m=\u001b[0m\u001b[0mcls\u001b[0m\u001b[1;33m,\u001b[0m \u001b[0mobject_hook\u001b[0m\u001b[1;33m=\u001b[0m\u001b[0mobject_hook\u001b[0m\u001b[1;33m,\u001b[0m\u001b[1;33m\u001b[0m\u001b[1;33m\u001b[0m\u001b[0m\n\u001b[0;32m    295\u001b[0m         \u001b[0mparse_float\u001b[0m\u001b[1;33m=\u001b[0m\u001b[0mparse_float\u001b[0m\u001b[1;33m,\u001b[0m \u001b[0mparse_int\u001b[0m\u001b[1;33m=\u001b[0m\u001b[0mparse_int\u001b[0m\u001b[1;33m,\u001b[0m\u001b[1;33m\u001b[0m\u001b[1;33m\u001b[0m\u001b[0m\n",
      "\u001b[1;31mAttributeError\u001b[0m: 'str' object has no attribute 'read'"
     ]
    }
   ],
   "source": [
    "json.load(out)"
   ]
  },
  {
   "cell_type": "code",
   "execution_count": 24,
   "metadata": {},
   "outputs": [],
   "source": [
    "df[['Call_ID','Preprocessed Transcripts']].head(5).to_json('File.json')"
   ]
  },
  {
   "cell_type": "code",
   "execution_count": 22,
   "metadata": {},
   "outputs": [],
   "source": [
    "import os"
   ]
  },
  {
   "cell_type": "code",
   "execution_count": 23,
   "metadata": {},
   "outputs": [
    {
     "data": {
      "text/plain": [
       "'C:\\\\Users\\\\stripathy32\\\\Saab_Dev_Codes'"
      ]
     },
     "execution_count": 23,
     "metadata": {},
     "output_type": "execute_result"
    }
   ],
   "source": [
    "os.getcwd()"
   ]
  },
  {
   "cell_type": "code",
   "execution_count": 25,
   "metadata": {},
   "outputs": [],
   "source": [
    "dataframe_1=pd.read_json(\"File.json\")"
   ]
  },
  {
   "cell_type": "code",
   "execution_count": 26,
   "metadata": {},
   "outputs": [
    {
     "data": {
      "text/html": [
       "<div>\n",
       "<style scoped>\n",
       "    .dataframe tbody tr th:only-of-type {\n",
       "        vertical-align: middle;\n",
       "    }\n",
       "\n",
       "    .dataframe tbody tr th {\n",
       "        vertical-align: top;\n",
       "    }\n",
       "\n",
       "    .dataframe thead th {\n",
       "        text-align: right;\n",
       "    }\n",
       "</style>\n",
       "<table border=\"1\" class=\"dataframe\">\n",
       "  <thead>\n",
       "    <tr style=\"text-align: right;\">\n",
       "      <th></th>\n",
       "      <th>Call_ID</th>\n",
       "      <th>Preprocessed Transcripts</th>\n",
       "    </tr>\n",
       "  </thead>\n",
       "  <tbody>\n",
       "    <tr>\n",
       "      <th>0</th>\n",
       "      <td>56482635</td>\n",
       "      <td>['welcome', 'life', 'help', 'hello', 'child', ...</td>\n",
       "    </tr>\n",
       "    <tr>\n",
       "      <th>1</th>\n",
       "      <td>61876574</td>\n",
       "      <td>['good', 'customer', 'care', 'help', 'today', ...</td>\n",
       "    </tr>\n",
       "    <tr>\n",
       "      <th>2</th>\n",
       "      <td>85550179</td>\n",
       "      <td>['good', 'welcome', 'insurance', 'help', 'want...</td>\n",
       "    </tr>\n",
       "    <tr>\n",
       "      <th>3</th>\n",
       "      <td>98762981</td>\n",
       "      <td>['good', 'customer', 'care', 'help', 'today', ...</td>\n",
       "    </tr>\n",
       "    <tr>\n",
       "      <th>4</th>\n",
       "      <td>114965010</td>\n",
       "      <td>['graph', 'noon', 'life', 'customer', 'care', ...</td>\n",
       "    </tr>\n",
       "  </tbody>\n",
       "</table>\n",
       "</div>"
      ],
      "text/plain": [
       "     Call_ID                           Preprocessed Transcripts\n",
       "0   56482635  ['welcome', 'life', 'help', 'hello', 'child', ...\n",
       "1   61876574  ['good', 'customer', 'care', 'help', 'today', ...\n",
       "2   85550179  ['good', 'welcome', 'insurance', 'help', 'want...\n",
       "3   98762981  ['good', 'customer', 'care', 'help', 'today', ...\n",
       "4  114965010  ['graph', 'noon', 'life', 'customer', 'care', ..."
      ]
     },
     "execution_count": 26,
     "metadata": {},
     "output_type": "execute_result"
    }
   ],
   "source": [
    "dataframe_1.head()"
   ]
  },
  {
   "cell_type": "code",
   "execution_count": 30,
   "metadata": {},
   "outputs": [],
   "source": [
    "y = json.loads(out)"
   ]
  },
  {
   "cell_type": "code",
   "execution_count": 32,
   "metadata": {},
   "outputs": [
    {
     "data": {
      "text/plain": [
       "[{'Call_ID': 56482635,\n",
       "  'Preprocessed Transcripts': \"['welcome', 'life', 'help', 'hello', 'child', 'policy', 'want', 'know', 'check', 'phone', 'value', 'policy', 'chill', 'insurance', 'purpose', 'know', 'policy_number', 'angel', 'policy_number', 'second', 'check', 'value', 'policy', 'policy', 'summary', 'section', 'account', 'register', 'line', 'register', 'facility', 'registration_process', 'icsi', 'insurance', 'registering', 'procedure', 'easy', 'time', 'registration', 'process', 'post', 'continuous', 'update', 'fine', 'register', 'service', 'type', 'space', 'policy_number', 'alright', 'unit', 'link', 'policy', 'want', 'inform', 'assist', 'maybe', 'registration_process', 'life', 'pleasant']\"},\n",
       " {'Call_ID': 61876574,\n",
       "  'Preprocessed Transcripts': \"['good', 'customer', 'care', 'help', 'today', 'want', 'unit_link', 'plan', 'help', 'mobile_number', 'angel', 'mobile_number', 'want', 'know', 'want', 'information', 'unit_link', 'plan', 'know', 'premium', 'benefit', 'agree', 'confirmation', 'minimum', 'premium', 'yearly', 'want', 'know', 'procedure', 'enroll', 'immediately', 'enroll', 'easily', 'agent', 'touch', 'come', 'collect', 'document', 'online', 'easy', 'online', 'processor', 'mention', 'document', 'need', 'upload', 'everybody', 'understand', 'website', 'option', 'register', 'need', 'card', 'card', 'photo', 'graph', 'passport', 'size', 'need', 'upload', 'website', 'information', 'help', 'know', 'problem', 'contact', 'contact', 'write', 'mail', 'query', 'ratehdfclife', 'great']\"},\n",
       " {'Call_ID': 85550179,\n",
       "  'Preprocessed Transcripts': \"['good', 'welcome', 'insurance', 'help', 'want', 'read', 'personal', 'health_plan', 'want', 'know', 'know', 'option', 'want', 'know', 'benefit', 'work', 'maybe', 'refer', 'protected_health', 'plan', 'sorry', 'protect', 'health_plan', 'know', 'know', 'number', 'ciara', 'phone', 'number', 'information', 'protected_health', 'plan', 'plan', 'option', 'minute', 'explain', 'benefit', 'cover', 'plan', 'band', 'plan', 'good', 'accord', 'accord', 'plan', 'plan', 'know', 'requirement', 'assume', 'inquire', 'surgical', 'benefit', 'plus', 'critical', 'illness', 'benefit', 'plan', 'daily', 'hospital', 'cash', 'benefit', 'plan', 'true', 'plan']\"},\n",
       " {'Call_ID': 98762981,\n",
       "  'Preprocessed Transcripts': \"['good', 'customer', 'care', 'help', 'today', 'type', 'pension', 'phone_number', 'phone_number', 'currently', 'offer', 'pension_plan', 'assure', 'pension_plan', 'unit_link', 'pension_plan', 'offer', 'flexible_premium', 'payment', 'frequency', 'tax_benefit', 'zero_allocation', 'charge', 'pension', 'super', 'plus', 'plan', 'unit_link', 'plan', 'flexible_premium', 'payment', 'multiple', 'fund', 'zero_allocation', 'charge', 'tax_benefit', 'flexible', 'maturity', 'work', 'plan', 'suggest', 'people', 'popular', 'plan', 'assure', 'unit_link', 'plan', 'earlier', 'popular', 'return', 'planet', 'high', 'return', 'link', 'market', 'want', 'think', 'time', 'information', 'want', 'thing', 'online', 'want']\"},\n",
       " {'Call_ID': 114965010,\n",
       "  'Preprocessed Transcripts': \"['graph', 'noon', 'life', 'customer', 'care', 'help', 'today', 'hello', 'history', 'life', 'azure', 'pension_plan', 'come', 'unit', 'link', 'plan', 'currently', 'enable', 'online', 'thing', 'thing', 'want', 'know', 'premium', 'benefit', 'policy', 'number', 'minute', 'premium', 'help', 'contact', 'agent', 'know', 'premium', 'yard', 'benefit', 'agent', 'thing', 'pension_plan', 'online_portal', 'activate', 'online_portal', 'know', 'usually', 'people_uh', 'deal', 'people_uh', 'premium', 'handle', 'agent', 'solve', 'problem', 'need', 'change', 'agent', 'talk', 'right', 'mommy', 'want', 'online', 'need', 'enable', 'want', 'enable', 'thing', 'help', 'enable', 'minute']\"}]"
      ]
     },
     "execution_count": 32,
     "metadata": {},
     "output_type": "execute_result"
    }
   ],
   "source": [
    "y"
   ]
  },
  {
   "cell_type": "code",
   "execution_count": 99,
   "metadata": {},
   "outputs": [],
   "source": [
    "dataf=pd.DataFrame(json.loads(out))"
   ]
  },
  {
   "cell_type": "code",
   "execution_count": 100,
   "metadata": {},
   "outputs": [
    {
     "name": "stdout",
     "output_type": "stream",
     "text": [
      "     Call_ID                           Preprocessed Transcripts\n",
      "0   56482635  ['welcome', 'life', 'help', 'hello', 'child', ...\n",
      "1   61876574  ['good', 'customer', 'care', 'help', 'today', ...\n",
      "2   85550179  ['good', 'welcome', 'insurance', 'help', 'want...\n",
      "3   98762981  ['good', 'customer', 'care', 'help', 'today', ...\n",
      "4  114965010  ['graph', 'noon', 'life', 'customer', 'care', ...\n"
     ]
    }
   ],
   "source": [
    "print(dataf.head())"
   ]
  },
  {
   "cell_type": "code",
   "execution_count": 102,
   "metadata": {},
   "outputs": [
    {
     "data": {
      "text/html": [
       "<div>\n",
       "<style scoped>\n",
       "    .dataframe tbody tr th:only-of-type {\n",
       "        vertical-align: middle;\n",
       "    }\n",
       "\n",
       "    .dataframe tbody tr th {\n",
       "        vertical-align: top;\n",
       "    }\n",
       "\n",
       "    .dataframe thead th {\n",
       "        text-align: right;\n",
       "    }\n",
       "</style>\n",
       "<table border=\"1\" class=\"dataframe\">\n",
       "  <thead>\n",
       "    <tr style=\"text-align: right;\">\n",
       "      <th></th>\n",
       "      <th>Call_ID</th>\n",
       "      <th>Preprocessed Transcripts</th>\n",
       "    </tr>\n",
       "  </thead>\n",
       "  <tbody>\n",
       "    <tr>\n",
       "      <th>0</th>\n",
       "      <td>56482635</td>\n",
       "      <td>'welcome', 'life', 'help', 'hello', 'child', '...</td>\n",
       "    </tr>\n",
       "    <tr>\n",
       "      <th>1</th>\n",
       "      <td>61876574</td>\n",
       "      <td>'good', 'customer', 'care', 'help', 'today', '...</td>\n",
       "    </tr>\n",
       "    <tr>\n",
       "      <th>2</th>\n",
       "      <td>85550179</td>\n",
       "      <td>'good', 'welcome', 'insurance', 'help', 'want'...</td>\n",
       "    </tr>\n",
       "    <tr>\n",
       "      <th>3</th>\n",
       "      <td>98762981</td>\n",
       "      <td>'good', 'customer', 'care', 'help', 'today', '...</td>\n",
       "    </tr>\n",
       "    <tr>\n",
       "      <th>4</th>\n",
       "      <td>114965010</td>\n",
       "      <td>'graph', 'noon', 'life', 'customer', 'care', '...</td>\n",
       "    </tr>\n",
       "  </tbody>\n",
       "</table>\n",
       "</div>"
      ],
      "text/plain": [
       "     Call_ID                           Preprocessed Transcripts\n",
       "0   56482635  'welcome', 'life', 'help', 'hello', 'child', '...\n",
       "1   61876574  'good', 'customer', 'care', 'help', 'today', '...\n",
       "2   85550179  'good', 'welcome', 'insurance', 'help', 'want'...\n",
       "3   98762981  'good', 'customer', 'care', 'help', 'today', '...\n",
       "4  114965010  'graph', 'noon', 'life', 'customer', 'care', '..."
      ]
     },
     "execution_count": 102,
     "metadata": {},
     "output_type": "execute_result"
    }
   ],
   "source": [
    "dataf[['Call_ID','Preprocessed Transcripts']]"
   ]
  },
  {
   "cell_type": "code",
   "execution_count": 97,
   "metadata": {},
   "outputs": [],
   "source": [
    "dataf['Preprocessed Transcripts'] = dataf['Preprocessed Transcripts'].str.get(0)"
   ]
  },
  {
   "cell_type": "code",
   "execution_count": 101,
   "metadata": {},
   "outputs": [],
   "source": [
    "dataf['Preprocessed Transcripts']=dataf['Preprocessed Transcripts'].str.strip('[]')"
   ]
  },
  {
   "cell_type": "code",
   "execution_count": 103,
   "metadata": {},
   "outputs": [
    {
     "data": {
      "text/plain": [
       "Call_ID                      int64\n",
       "Preprocessed Transcripts    object\n",
       "dtype: object"
      ]
     },
     "execution_count": 103,
     "metadata": {},
     "output_type": "execute_result"
    }
   ],
   "source": [
    "dataf.dtypes"
   ]
  },
  {
   "cell_type": "code",
   "execution_count": null,
   "metadata": {},
   "outputs": [],
   "source": []
  }
 ],
 "metadata": {
  "kernelspec": {
   "display_name": "Python 3",
   "language": "python",
   "name": "python3"
  },
  "language_info": {
   "codemirror_mode": {
    "name": "ipython",
    "version": 3
   },
   "file_extension": ".py",
   "mimetype": "text/x-python",
   "name": "python",
   "nbconvert_exporter": "python",
   "pygments_lexer": "ipython3",
   "version": "3.7.3"
  }
 },
 "nbformat": 4,
 "nbformat_minor": 2
}
