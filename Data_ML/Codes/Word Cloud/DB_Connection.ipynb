{
 "cells": [
  {
   "cell_type": "code",
   "execution_count": 2,
   "metadata": {},
   "outputs": [],
   "source": [
    "'''\n",
    "    This file takes care of all the data warehouse exchanges that would be made from the ML models \n",
    "    including and not limited to select, update, insert.\n",
    "'''\n",
    "%run ConfigFile.ipynb #import ConfigFile as cfg\n",
    "import pyodbc\n",
    "import pandas as pd\n",
    "from azure.storage.blob import BlockBlobService\n",
    "\n",
    "\n",
    "def fetch_data(query):\n",
    "    import pyodbc\n",
    "    import pandas as pd\n",
    "    #Connection String from the config file\n",
    "    cnxn = pyodbc.connect('DRIVER='+mysql['driver']+';SERVER='+mysql['server']+';PORT='+mysql['PORT']+';DATABASE='+mysql['database']+';UID='+mysql['username']+';PWD='+ mysql['password'])\n",
    "    cursor = cnxn.cursor()\n",
    "    \n",
    "    #Stored procedure to fetch the call id and transcripts for the respective call id.\n",
    "    data = pd.read_sql_query(query,cnxn)\n",
    "    \n",
    "    #Closing the connection\n",
    "    cursor.close()\n",
    "    cnxn.close()\n",
    "    \n",
    "    return data\n",
    "\n",
    "def fetch_data_from_blob(top_level_container_name):\n",
    "    import pyodbc\n",
    "    import pandas as pd\n",
    "    #Connection String from the config file\n",
    "    block_blob_service = BlockBlobService(azure_details['azure_storage_name'], azure_details['azure_storage_account_key'])\n",
    "    \n",
    "    #Retrieve all the blob names from the container.\n",
    "    blob_names= []\n",
    "    generator = block_blob_service.list_blobs(top_level_container_name)\n",
    "    for blob in generator:\n",
    "        blob_names.append(blob.name)\n",
    "        \n",
    "    blob_file = block_blob_service.get_blob_to_text(top_level_container_name,blob_names[0]).content\n",
    "    \n",
    "    return blob_file"
   ]
  },
  {
   "cell_type": "code",
   "execution_count": null,
   "metadata": {},
   "outputs": [],
   "source": []
  }
 ],
 "metadata": {
  "kernelspec": {
   "display_name": "Python 3",
   "language": "python",
   "name": "python3"
  },
  "language_info": {
   "codemirror_mode": {
    "name": "ipython",
    "version": 3
   },
   "file_extension": ".py",
   "mimetype": "text/x-python",
   "name": "python",
   "nbconvert_exporter": "python",
   "pygments_lexer": "ipython3",
   "version": "3.6.8"
  }
 },
 "nbformat": 4,
 "nbformat_minor": 2
}
