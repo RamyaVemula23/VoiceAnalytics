{
 "cells": [
  {
   "cell_type": "code",
   "execution_count": 1,
   "metadata": {},
   "outputs": [],
   "source": [
    "%run ConfigFile.ipynb  ##import ConfigFile as cfg\n",
    "%run DB_Connection.ipynb ##import DB_Connection as dbc\n",
    "import pyodbc\n",
    "import copy\n",
    "import math\n",
    "from datetime import datetime\n",
    "import logging\n",
    "import time\n",
    "import os\n",
    "import sys\n",
    "\n",
    "import pandas as pd\n",
    "import numpy as np\n",
    "import re\n",
    "\n",
    "\n",
    "\n",
    "import spacy\n",
    "import en_core_web_sm\n",
    "nlp = en_core_web_sm.load()\n",
    "\n",
    "from sklearn.model_selection import train_test_split\n",
    "from sklearn.model_selection import StratifiedShuffleSplit\n",
    "from sklearn.model_selection import KFold  \n",
    "from sklearn.feature_extraction.text import CountVectorizer\n",
    "from sklearn.feature_extraction.text import TfidfTransformer\n",
    "from sklearn.svm import LinearSVC\n",
    "from sklearn.calibration import CalibratedClassifierCV\n",
    "from sklearn.naive_bayes import GaussianNB\n",
    "from sklearn.pipeline import Pipeline\n",
    "from sklearn.feature_selection import chi2\n",
    "from sklearn.metrics import f1_score"
   ]
  },
  {
   "cell_type": "code",
   "execution_count": 2,
   "metadata": {},
   "outputs": [
    {
     "data": {
      "text/plain": [
       "<Logger SAAB (DEBUG)>"
      ]
     },
     "execution_count": 2,
     "metadata": {},
     "output_type": "execute_result"
    }
   ],
   "source": [
    "#creating a unique id with the help of current date timestamp\n",
    "st = datetime.fromtimestamp(time.time()).strftime('%d%m%Y%H%M%S')\n",
    "clientname=client_name['clientname']\n",
    "logging.basicConfig(filename=clientname+\"_\"+st+\".log\",level=logging.DEBUG,format=\"%(asctime)s:%(levelname)s:%(message)s\")\n",
    "logging.getLogger().setLevel(logging.DEBUG)\n",
    "logging.getLogger(clientname)"
   ]
  },
  {
   "cell_type": "markdown",
   "metadata": {},
   "source": [
    "### Keyphrases"
   ]
  },
  {
   "cell_type": "code",
   "execution_count": 3,
   "metadata": {},
   "outputs": [],
   "source": [
    "introduction_section = [\"how may I help\",\"welcome to\",\"thank you for calling\",\"i am calling from\",\"i can help you\",\"i can assist you with\"]\n",
    "mid_section = [\"for verification purpose\",\"I can help you\",\"I will help you\",\"i can assist you with\",\"apologize for\",\"for the inconvenience\"]\n",
    "closure_section = [\"thank you for calling\",\"have a pleasant day\",\"have a nice day\",\"i will transfer the call\",\"is there anything else\",\"i can assist you with\"]"
   ]
  },
  {
   "cell_type": "markdown",
   "metadata": {},
   "source": [
    "### Function to get the Speaker IDs which matches the agent script"
   ]
  },
  {
   "cell_type": "code",
   "execution_count": 6,
   "metadata": {},
   "outputs": [],
   "source": [
    "def get_speaker_list(sentences_list,keyphrase_list,temp_data):\n",
    "    indexes_list = []\n",
    "    speaker_list = []\n",
    "    for phrase in keyphrase_list:\n",
    "        indexes_list = [sentences_list.index(x) if phrase in x else '' for x in sentences_list]\n",
    "        for i in indexes_list:\n",
    "            if (isinstance(i,int)):\n",
    "                speaker_list.append(temp_data.loc[i,'SpeakerId'])      \n",
    "    return speaker_list"
   ]
  },
  {
   "cell_type": "markdown",
   "metadata": {},
   "source": [
    "### Main function"
   ]
  },
  {
   "cell_type": "code",
   "execution_count": 11,
   "metadata": {},
   "outputs": [],
   "source": [
    "def main():\n",
    "    logging.debug(\"Starting....\")\n",
    "    #Reading data from local system and azure data\n",
    "    try:\n",
    "        logging.debug(\"Reading data....\")\n",
    "        data = fetch_data(\"select * from [dbo].[Fact_Audio_Insights] order by [Call_ID],[StartTime];\")\n",
    "    except Exception as err:\n",
    "        if \"Could not open a connection to SQL Server\" in str(err):\n",
    "            logging.error(\"Could not connect to data warehouse : \"+str(err.args)+\"\\nTraceback :\"+str(err.with_traceback))\n",
    "        else:\n",
    "            logging.error(\"Error occured with database :\"+str(err.args)+\"\\nTraceback :\"+str(err.with_traceback))\n",
    "        sys.exit(1)\n",
    "    try:\n",
    "        distict_call_ids = list(data['Call_ID'].unique())\n",
    "        \n",
    "        logging.debug(\"CallId identification in progress....\")\n",
    "        call_id_agent_mapping_dict = {}\n",
    "        for call_id in distict_call_ids:\n",
    "\n",
    "            temp_data = data[data['Call_ID']==call_id][['Call_ID','SpeakerId','StartTime','Display']]\n",
    "\n",
    "            # Introduction section check for agent spoken phrases\n",
    "            intro_speaker_list = get_speaker_list(list(temp_data['Display'][:5]),introduction_section,temp_data)   \n",
    "\n",
    "            # Mid section check for agent spoken phrases\n",
    "            mid_speaker_list = get_speaker_list(list(temp_data['Display'][5:-5]),mid_section,temp_data)\n",
    "\n",
    "            # Closure section check for agent spoken phrases\n",
    "            closure_speaker_list = get_speaker_list(list(temp_data['Display'][-5:]),closure_section,temp_data)\n",
    "\n",
    "            # Adding all the most occcuring Speaker IDs from diffent sections into a final list\n",
    "            final_spk_list = []\n",
    "            if intro_speaker_list:\n",
    "                final_spk_list.append(max(intro_speaker_list,key=intro_speaker_list.count))\n",
    "            if mid_speaker_list:\n",
    "                final_spk_list.append(max(mid_speaker_list,key=mid_speaker_list.count))\n",
    "            if closure_speaker_list:\n",
    "                final_spk_list.append(max(closure_speaker_list,key=closure_speaker_list.count))\n",
    "\n",
    "            # Creating a dictionary containing the SpeakerID flagged as agent\n",
    "            if final_spk_list:\n",
    "                call_id_agent_mapping_dict[call_id] = max(final_spk_list,key=final_spk_list.count)\n",
    "            else:\n",
    "                call_id_agent_mapping_dict[call_id] = np.nan\n",
    "            \n",
    "            logging.debug(\"Assigning labels in progress....\")\n",
    "            copy_data = copy.deepcopy(data)\n",
    "            copy_data['Agent_ID'] = copy_data['Call_ID'].map(call_id_agent_mapping_dict)\n",
    "            copy_data['Labels'] = np.where(copy_data['SpeakerId'] == copy_data['Agent_ID'],'A','C')\n",
    "            call_speaker_labels_df = copy_data[['Call_ID','SpeakerId','Labels','StartTime']].groupby(['Call_ID','SpeakerId','Labels']).count().reset_index().drop('StartTime',axis=1)\n",
    "            print(call_speaker_labels_df)\n",
    "    except Exception as err:\n",
    "        logging.error(\"Error occured : \"+str(err.args)+\"\\nTraceback :\"+str(err.with_traceback))\n",
    "        sys.exit(1)"
   ]
  },
  {
   "cell_type": "code",
   "execution_count": 12,
   "metadata": {},
   "outputs": [
    {
     "name": "stderr",
     "output_type": "stream",
     "text": [
      "DEBUG - Starting....\n",
      "DEBUG - Reading data....\n",
      "DEBUG - CallId identification in progress....\n",
      "DEBUG - Assigning labels in progress....\n",
      "ERROR - Error occured : (0,)\n",
      "Traceback :<built-in method with_traceback of KeyError object at 0x0000024760504F68>\n"
     ]
    },
    {
     "name": "stdout",
     "output_type": "stream",
     "text": [
      "        Call_ID  SpeakerId Labels\n",
      "0      56482635          1      C\n",
      "1      56482635          2      A\n",
      "2      61876574          1      C\n",
      "3      61876574          2      C\n",
      "4      85550179          1      C\n",
      "..          ...        ...    ...\n",
      "176  2071978881          2      C\n",
      "177  2074449487          1      C\n",
      "178  2074449487          2      C\n",
      "179  2146526476          1      C\n",
      "180  2146526476          2      C\n",
      "\n",
      "[181 rows x 3 columns]\n"
     ]
    },
    {
     "ename": "SystemExit",
     "evalue": "1",
     "output_type": "error",
     "traceback": [
      "An exception has occurred, use %tb to see the full traceback.\n",
      "\u001b[1;31mSystemExit\u001b[0m\u001b[1;31m:\u001b[0m 1\n"
     ]
    }
   ],
   "source": [
    "if __name__ == \"__main__\":\n",
    "    main()"
   ]
  },
  {
   "cell_type": "code",
   "execution_count": null,
   "metadata": {},
   "outputs": [],
   "source": []
  }
 ],
 "metadata": {
  "kernelspec": {
   "display_name": "Python 3",
   "language": "python",
   "name": "python3"
  },
  "language_info": {
   "codemirror_mode": {
    "name": "ipython",
    "version": 3
   },
   "file_extension": ".py",
   "mimetype": "text/x-python",
   "name": "python",
   "nbconvert_exporter": "python",
   "pygments_lexer": "ipython3",
   "version": "3.6.8"
  }
 },
 "nbformat": 4,
 "nbformat_minor": 2
}
