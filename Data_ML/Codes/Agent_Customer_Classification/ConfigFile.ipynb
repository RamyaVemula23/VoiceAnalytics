{
 "cells": [
  {
   "cell_type": "code",
   "execution_count": 1,
   "metadata": {},
   "outputs": [],
   "source": [
    "client_name = {'clientname' : 'SAAB'}\n",
    "mysql = {'server': 'saab-server-resource.database.windows.net',\n",
    "         'database': 'Saab_DW_Resource',\n",
    "         'username': 'saabadmin',\n",
    "         'password': 'p@$$w0rd',\n",
    "         'driver':'{ODBC Driver 13 for SQL Server}',\n",
    "         'PORT':'1433'}\n",
    "azure_details={'storage_preprocessed_transcripts':'preprocessed-transcripts',\n",
    "               'azure_storage_name':'saabstorageresource',\n",
    "               'azure_storage_account_key':'F6JnfuYCFNKcoRHbNgmlqUMUOanuCK3lqGaIOIUPbLUKFQgzI4U0qy0l9N/uA2v3kyyCdrNdZjWMlvuj0irNDQ=='}\n",
    "custom_Stopwords={'custom_stopwords':['hdfc_life','thank','good_afternoon','good_morning','ok_madam','ok_mom',\n",
    "                                      'yeah','yeah','sure','hdfc','like','tell', 'ok_uh']}"
   ]
  },
  {
   "cell_type": "code",
   "execution_count": null,
   "metadata": {},
   "outputs": [],
   "source": []
  }
 ],
 "metadata": {
  "kernelspec": {
   "display_name": "Python 3",
   "language": "python",
   "name": "python3"
  },
  "language_info": {
   "codemirror_mode": {
    "name": "ipython",
    "version": 3
   },
   "file_extension": ".py",
   "mimetype": "text/x-python",
   "name": "python",
   "nbconvert_exporter": "python",
   "pygments_lexer": "ipython3",
   "version": "3.6.8"
  }
 },
 "nbformat": 4,
 "nbformat_minor": 2
}
