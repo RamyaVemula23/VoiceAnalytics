{
 "cells": [
  {
   "cell_type": "code",
   "execution_count": 6,
   "metadata": {},
   "outputs": [],
   "source": [
    "'''\n",
    "    This file takes care of all the data warehouse exchanges that would be made from the ML models \n",
    "    including and not limited to select, update, insert.\n",
    "'''\n",
    "import ConfigFile as cfg\n",
    "import pyodbc\n",
    "import pandas as pd\n",
    "\n",
    "\n",
    "def fetch_data(query):\n",
    "    import pyodbc\n",
    "    import pandas as pd\n",
    "    #Connection String from the config file\n",
    "    cnxn = pyodbc.connect('DRIVER='+cfg.mysql['driver']+';SERVER='+cfg.mysql['server']+';PORT='+cfg.mysql['PORT']+';DATABASE='+cfg.mysql['database']+';UID='+cfg.mysql['username']+';PWD='+ cfg.mysql['password'])\n",
    "    cursor = cnxn.cursor()\n",
    "    \n",
    "    #Stored procedure to fetch the call id and transcripts for the respective call id.\n",
    "    data = pd.read_sql_query(query,cnxn)\n",
    "    \n",
    "    #Closing the connection\n",
    "    cursor.close()\n",
    "    cnxn.close()\n",
    "    \n",
    "    return data"
   ]
  }
 ],
 "metadata": {
  "kernelspec": {
   "display_name": "Python 3",
   "language": "python",
   "name": "python3"
  },
  "language_info": {
   "codemirror_mode": {
    "name": "ipython",
    "version": 3
   },
   "file_extension": ".py",
   "mimetype": "text/x-python",
   "name": "python",
   "nbconvert_exporter": "python",
   "pygments_lexer": "ipython3",
   "version": "3.7.3"
  }
 },
 "nbformat": 4,
 "nbformat_minor": 2
}
